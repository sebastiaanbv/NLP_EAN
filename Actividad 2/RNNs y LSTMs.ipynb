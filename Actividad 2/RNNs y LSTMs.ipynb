{
 "cells": [
  {
   "cell_type": "markdown",
   "metadata": {},
   "source": [
    "### Clasificación de Noticias Usando RNNs y LSTMs "
   ]
  },
  {
   "cell_type": "markdown",
   "metadata": {},
   "source": [
    "#### Librerías"
   ]
  },
  {
   "cell_type": "code",
   "execution_count": 11,
   "metadata": {},
   "outputs": [],
   "source": [
    "import pandas as pd\n",
    "import openpyxl\n",
    "import matplotlib.pyplot as plt\n",
    "import re\n",
    "import spacy\n",
    "from nltk.corpus import stopwords\n",
    "from nltk.tokenize import word_tokenize, RegexpTokenizer\n",
    "from sklearn.base import BaseEstimator, TransformerMixin\n",
    "from sklearn.metrics import accuracy_score, classification_report, confusion_matrix\n",
    "from sklearn.model_selection import train_test_split"
   ]
  },
  {
   "cell_type": "markdown",
   "metadata": {},
   "source": [
    "#### 1. Carga y Exploración de Datos"
   ]
  },
  {
   "cell_type": "code",
   "execution_count": 12,
   "metadata": {},
   "outputs": [
    {
     "data": {
      "text/html": [
       "<div>\n",
       "<style scoped>\n",
       "    .dataframe tbody tr th:only-of-type {\n",
       "        vertical-align: middle;\n",
       "    }\n",
       "\n",
       "    .dataframe tbody tr th {\n",
       "        vertical-align: top;\n",
       "    }\n",
       "\n",
       "    .dataframe thead th {\n",
       "        text-align: right;\n",
       "    }\n",
       "</style>\n",
       "<table border=\"1\" class=\"dataframe\">\n",
       "  <thead>\n",
       "    <tr style=\"text-align: right;\">\n",
       "      <th></th>\n",
       "      <th>Enlaces</th>\n",
       "      <th>Título</th>\n",
       "      <th>info</th>\n",
       "      <th>contenido</th>\n",
       "      <th>Etiqueta</th>\n",
       "    </tr>\n",
       "  </thead>\n",
       "  <tbody>\n",
       "    <tr>\n",
       "      <th>0</th>\n",
       "      <td>https://www.eltiempo.com/agresion-contra-un-op...</td>\n",
       "      <td>Operador de grúa quedó inconsciente tras agres...</td>\n",
       "      <td>El conductor de una moto le lanzó el casco y p...</td>\n",
       "      <td>Las autoridades están buscando al conductor de...</td>\n",
       "      <td>colombia</td>\n",
       "    </tr>\n",
       "    <tr>\n",
       "      <th>1</th>\n",
       "      <td>https://www.eltiempo.com/archivo/documento/CMS...</td>\n",
       "      <td>Usaquén, primera en infracciones por mal parqueo</td>\n",
       "      <td>La localidad ocupa el primer lugar en comparen...</td>\n",
       "      <td>\"Los andenes son para los peatones\", reclama e...</td>\n",
       "      <td>archivo</td>\n",
       "    </tr>\n",
       "    <tr>\n",
       "      <th>2</th>\n",
       "      <td>https://www.eltiempo.com/archivo/documento/CMS...</td>\n",
       "      <td>'Me atracaron y vi un arma que me heló la sang...</td>\n",
       "      <td>Un ciudadano relata cómo cuatro hombres lo rob...</td>\n",
       "      <td>A las 7 de la noche me había quedado de encont...</td>\n",
       "      <td>archivo</td>\n",
       "    </tr>\n",
       "    <tr>\n",
       "      <th>3</th>\n",
       "      <td>https://www.eltiempo.com/archivo/documento/CMS...</td>\n",
       "      <td>Escoltas mal estacionados, dolor de cabeza de ...</td>\n",
       "      <td>Las zonas de restaurantes se convierten en par...</td>\n",
       "      <td>Atravesados. Eso es lo que se les pasa por la ...</td>\n",
       "      <td>archivo</td>\n",
       "    </tr>\n",
       "    <tr>\n",
       "      <th>4</th>\n",
       "      <td>https://www.eltiempo.com/archivo/documento/CMS...</td>\n",
       "      <td>Radicado primer proyecto que autorizaría union...</td>\n",
       "      <td>El representante de 'la U', Miguel Gómez, dijo...</td>\n",
       "      <td>“Estamos proponiendo la figura de un contrato ...</td>\n",
       "      <td>archivo</td>\n",
       "    </tr>\n",
       "    <tr>\n",
       "      <th>...</th>\n",
       "      <td>...</td>\n",
       "      <td>...</td>\n",
       "      <td>...</td>\n",
       "      <td>...</td>\n",
       "      <td>...</td>\n",
       "    </tr>\n",
       "    <tr>\n",
       "      <th>14391</th>\n",
       "      <td>https://www.eltiempo.com/vida/viajar/una-viaje...</td>\n",
       "      <td>Una viajera pensó que la aerolínea Viva Air le...</td>\n",
       "      <td>La mujer hizo la denuncia en redes. La aerolín...</td>\n",
       "      <td>En Twitter es tendencia 'FCAS' por una denunci...</td>\n",
       "      <td>vida</td>\n",
       "    </tr>\n",
       "    <tr>\n",
       "      <th>14392</th>\n",
       "      <td>https://www.eltiempo.com/vida/viajar/un-dia-pe...</td>\n",
       "      <td>Un día perfecto en Coco Cay, la isla privada d...</td>\n",
       "      <td>El proyecto Global Private Island Collection c...</td>\n",
       "      <td>La naviera internacional Royal Caribbean prese...</td>\n",
       "      <td>vida</td>\n",
       "    </tr>\n",
       "    <tr>\n",
       "      <th>14393</th>\n",
       "      <td>https://www.eltiempo.com/vida/viajar/visitar-b...</td>\n",
       "      <td>Barú: el paraíso colombiano abierto para todos...</td>\n",
       "      <td>Cuatro hoteles y el Aviario Nacional lanzarán ...</td>\n",
       "      <td>¿Necesita razones para ir a Barú? A menos de u...</td>\n",
       "      <td>vida</td>\n",
       "    </tr>\n",
       "    <tr>\n",
       "      <th>14394</th>\n",
       "      <td>https://www.eltiempo.com/vida/viajar/we-trade-...</td>\n",
       "      <td>Con WeTrade, llega la hora LGBT a Bogotá</td>\n",
       "      <td>El 1 y 2 de noviembre se celebrará esta Feria ...</td>\n",
       "      <td>Se estima que la población LGTBI en Colombia e...</td>\n",
       "      <td>vida</td>\n",
       "    </tr>\n",
       "    <tr>\n",
       "      <th>14395</th>\n",
       "      <td>https://www.eltiempo.com/vida/viajar/yovoy-cam...</td>\n",
       "      <td>#YoVoy, una invitación a viajar por Colombia</td>\n",
       "      <td>El presidente Duque lanzó la campaña nacional ...</td>\n",
       "      <td>Con la intención de que los colombianos conozc...</td>\n",
       "      <td>vida</td>\n",
       "    </tr>\n",
       "  </tbody>\n",
       "</table>\n",
       "<p>14396 rows × 5 columns</p>\n",
       "</div>"
      ],
      "text/plain": [
       "                                                 Enlaces  \\\n",
       "0      https://www.eltiempo.com/agresion-contra-un-op...   \n",
       "1      https://www.eltiempo.com/archivo/documento/CMS...   \n",
       "2      https://www.eltiempo.com/archivo/documento/CMS...   \n",
       "3      https://www.eltiempo.com/archivo/documento/CMS...   \n",
       "4      https://www.eltiempo.com/archivo/documento/CMS...   \n",
       "...                                                  ...   \n",
       "14391  https://www.eltiempo.com/vida/viajar/una-viaje...   \n",
       "14392  https://www.eltiempo.com/vida/viajar/un-dia-pe...   \n",
       "14393  https://www.eltiempo.com/vida/viajar/visitar-b...   \n",
       "14394  https://www.eltiempo.com/vida/viajar/we-trade-...   \n",
       "14395  https://www.eltiempo.com/vida/viajar/yovoy-cam...   \n",
       "\n",
       "                                                  Título  \\\n",
       "0      Operador de grúa quedó inconsciente tras agres...   \n",
       "1       Usaquén, primera en infracciones por mal parqueo   \n",
       "2      'Me atracaron y vi un arma que me heló la sang...   \n",
       "3      Escoltas mal estacionados, dolor de cabeza de ...   \n",
       "4      Radicado primer proyecto que autorizaría union...   \n",
       "...                                                  ...   \n",
       "14391  Una viajera pensó que la aerolínea Viva Air le...   \n",
       "14392  Un día perfecto en Coco Cay, la isla privada d...   \n",
       "14393  Barú: el paraíso colombiano abierto para todos...   \n",
       "14394           Con WeTrade, llega la hora LGBT a Bogotá   \n",
       "14395       #YoVoy, una invitación a viajar por Colombia   \n",
       "\n",
       "                                                    info  \\\n",
       "0      El conductor de una moto le lanzó el casco y p...   \n",
       "1      La localidad ocupa el primer lugar en comparen...   \n",
       "2      Un ciudadano relata cómo cuatro hombres lo rob...   \n",
       "3      Las zonas de restaurantes se convierten en par...   \n",
       "4      El representante de 'la U', Miguel Gómez, dijo...   \n",
       "...                                                  ...   \n",
       "14391  La mujer hizo la denuncia en redes. La aerolín...   \n",
       "14392  El proyecto Global Private Island Collection c...   \n",
       "14393  Cuatro hoteles y el Aviario Nacional lanzarán ...   \n",
       "14394  El 1 y 2 de noviembre se celebrará esta Feria ...   \n",
       "14395  El presidente Duque lanzó la campaña nacional ...   \n",
       "\n",
       "                                               contenido  Etiqueta  \n",
       "0      Las autoridades están buscando al conductor de...  colombia  \n",
       "1      \"Los andenes son para los peatones\", reclama e...   archivo  \n",
       "2      A las 7 de la noche me había quedado de encont...   archivo  \n",
       "3      Atravesados. Eso es lo que se les pasa por la ...   archivo  \n",
       "4      “Estamos proponiendo la figura de un contrato ...   archivo  \n",
       "...                                                  ...       ...  \n",
       "14391  En Twitter es tendencia 'FCAS' por una denunci...      vida  \n",
       "14392  La naviera internacional Royal Caribbean prese...      vida  \n",
       "14393  ¿Necesita razones para ir a Barú? A menos de u...      vida  \n",
       "14394  Se estima que la población LGTBI en Colombia e...      vida  \n",
       "14395  Con la intención de que los colombianos conozc...      vida  \n",
       "\n",
       "[14396 rows x 5 columns]"
      ]
     },
     "execution_count": 12,
     "metadata": {},
     "output_type": "execute_result"
    }
   ],
   "source": [
    "Df = pd.read_excel(\"C:/Users/USER/OneDrive - universidadean.edu.co/5. NLP/Repositorio NLP/Actividad 2/Noticias.xlsx\", engine='openpyxl')\n",
    "Df.drop('Columna1', axis=1, inplace=True)\n",
    "Df"
   ]
  },
  {
   "cell_type": "code",
   "execution_count": 13,
   "metadata": {},
   "outputs": [
    {
     "data": {
      "image/png": "[encoded data removed]",
      "text/plain": [
       "<Figure size 1600x600 with 2 Axes>"
      ]
     },
     "metadata": {},
     "output_type": "display_data"
    }
   ],
   "source": [
    "# Calcular las frecuencias\n",
    "frecuencia_etiquetas = Df['Etiqueta'].value_counts()\n",
    "\n",
    "# Crear los subgráficos en una sola fila\n",
    "fig, axes = plt.subplots(1, 2, figsize=(16, 6))  # 1 fila, 2 columnas\n",
    "\n",
    "# Graficar las frecuencias generales\n",
    "frecuencia_etiquetas.plot(kind='barh', ax=axes[0], color='steelblue')\n",
    "axes[0].set_title('Frecuencia de cada Etiqueta')\n",
    "axes[0].set_xlabel('Frecuencia')\n",
    "axes[0].set_ylabel('Etiqueta')\n",
    "axes[0].invert_yaxis()  # Invertir el eje Y\n",
    "\n",
    "# Filtrar etiquetas\n",
    "Df_filter = Df[Df['Etiqueta'].isin([\"deportes\", \"cultura\", \"economia\", \"justicia\"])]\n",
    "frecuencia_etiquetas_filter = Df_filter['Etiqueta'].value_counts()\n",
    "\n",
    "# Graficar las frecuencias filtradas\n",
    "frecuencia_etiquetas_filter.plot(kind='barh', ax=axes[1], color='orange')\n",
    "axes[1].set_title('Frecuencia de Etiquetas Filtradas')\n",
    "axes[1].set_xlabel('Frecuencia')\n",
    "axes[1].set_ylabel('Etiqueta')\n",
    "axes[1].invert_yaxis()  # Invertir el eje Y\n",
    "\n",
    "# Ajustar diseño para evitar solapamientos\n",
    "plt.tight_layout()\n",
    "plt.show()\n",
    "\n"
   ]
  },
  {
   "cell_type": "markdown",
   "metadata": {},
   "source": [
    "#### 2. Filtrado de Datos"
   ]
  },
  {
   "cell_type": "code",
   "execution_count": 14,
   "metadata": {},
   "outputs": [
    {
     "data": {
      "text/html": [
       "<div>\n",
       "<style scoped>\n",
       "    .dataframe tbody tr th:only-of-type {\n",
       "        vertical-align: middle;\n",
       "    }\n",
       "\n",
       "    .dataframe tbody tr th {\n",
       "        vertical-align: top;\n",
       "    }\n",
       "\n",
       "    .dataframe thead th {\n",
       "        text-align: right;\n",
       "    }\n",
       "</style>\n",
       "<table border=\"1\" class=\"dataframe\">\n",
       "  <thead>\n",
       "    <tr style=\"text-align: right;\">\n",
       "      <th></th>\n",
       "      <th>Enlaces</th>\n",
       "      <th>Título</th>\n",
       "      <th>info</th>\n",
       "      <th>contenido</th>\n",
       "      <th>Etiqueta</th>\n",
       "    </tr>\n",
       "  </thead>\n",
       "  <tbody>\n",
       "    <tr>\n",
       "      <th>10487</th>\n",
       "      <td>https://www.eltiempo.com/cultura/al-interior-d...</td>\n",
       "      <td>Al interior de, aparte, roquero, rock / El len...</td>\n",
       "      <td>'Al interior de' es el reemplazo sofisticado e...</td>\n",
       "      <td>Citas: “Los crímenes de violencia sexual comet...</td>\n",
       "      <td>cultura</td>\n",
       "    </tr>\n",
       "    <tr>\n",
       "      <th>10488</th>\n",
       "      <td>https://www.eltiempo.com/cultura/arte-y-teatro...</td>\n",
       "      <td>Antonina Canal: 20 años de danza oriental en C...</td>\n",
       "      <td>La bailarina habló con EL TIEMPO de su trayect...</td>\n",
       "      <td>Con motivo de la celebración de los 20 años de...</td>\n",
       "      <td>cultura</td>\n",
       "    </tr>\n",
       "    <tr>\n",
       "      <th>10489</th>\n",
       "      <td>https://www.eltiempo.com/cultura/arte-y-teatro...</td>\n",
       "      <td>Aparece en Holanda cuadro de Picasso, robado h...</td>\n",
       "      <td>La pintura era propiedad de un jeque saudí, Ab...</td>\n",
       "      <td>El cuadro Busto de mujer, del artista español ...</td>\n",
       "      <td>cultura</td>\n",
       "    </tr>\n",
       "    <tr>\n",
       "      <th>10490</th>\n",
       "      <td>https://www.eltiempo.com/cultura/arte-y-teatro...</td>\n",
       "      <td>Así será la programación del Carnaval de las A...</td>\n",
       "      <td>El evento con algunos de los artistas más repr...</td>\n",
       "      <td>El Carnaval de las Artes, organizado en Barran...</td>\n",
       "      <td>cultura</td>\n",
       "    </tr>\n",
       "    <tr>\n",
       "      <th>10491</th>\n",
       "      <td>https://www.eltiempo.com/cultura/arte-y-teatro...</td>\n",
       "      <td>‘Fragmentos’ se viste de charlas y música</td>\n",
       "      <td>El lugar donde está el monumento de la artista...</td>\n",
       "      <td>Louise du Toit, filósofa; el doctor Denis Mukw...</td>\n",
       "      <td>cultura</td>\n",
       "    </tr>\n",
       "    <tr>\n",
       "      <th>...</th>\n",
       "      <td>...</td>\n",
       "      <td>...</td>\n",
       "      <td>...</td>\n",
       "      <td>...</td>\n",
       "      <td>...</td>\n",
       "    </tr>\n",
       "    <tr>\n",
       "      <th>12467</th>\n",
       "      <td>https://www.eltiempo.com/justicia/servicios/po...</td>\n",
       "      <td>Más de 70 mil policías apoyan jornada de aisla...</td>\n",
       "      <td>Miisterio de Defensa activó dispositivo especi...</td>\n",
       "      <td>El  ministro de la Defensa, Carlos Holmes Truj...</td>\n",
       "      <td>justicia</td>\n",
       "    </tr>\n",
       "    <tr>\n",
       "      <th>12468</th>\n",
       "      <td>https://www.eltiempo.com/justicia/servicios/pr...</td>\n",
       "      <td>Habrá proyecto conjunto para superar la crisis...</td>\n",
       "      <td>Se revisarán “conductas antisociales” que se h...</td>\n",
       "      <td>Después de varios contrapunteos sobre la mejor...</td>\n",
       "      <td>justicia</td>\n",
       "    </tr>\n",
       "    <tr>\n",
       "      <th>12469</th>\n",
       "      <td>https://www.eltiempo.com/justicia/servicios/qu...</td>\n",
       "      <td>¿Qué hacer en caso de un accidente de tránsito...</td>\n",
       "      <td>EL TIEMPO y la Unilibre responden a esta y otr...</td>\n",
       "      <td>El TIempo y la Universidad Libre se aliaron pa...</td>\n",
       "      <td>justicia</td>\n",
       "    </tr>\n",
       "    <tr>\n",
       "      <th>12470</th>\n",
       "      <td>https://www.eltiempo.com/justicia/servicios/su...</td>\n",
       "      <td>Otorgan subsidios a tres obreros del edificio ...</td>\n",
       "      <td>También la esposa de una de las víctimas recib...</td>\n",
       "      <td>Tres trabajadores del edificio Portales Blas d...</td>\n",
       "      <td>justicia</td>\n",
       "    </tr>\n",
       "    <tr>\n",
       "      <th>12471</th>\n",
       "      <td>https://www.eltiempo.com/justicia/servicios/su...</td>\n",
       "      <td>En Armenia, suspendidos dos artículos del POT ...</td>\n",
       "      <td>Se estaban dando licencias para construcciones...</td>\n",
       "      <td>Frente a la alerta que había prendido la Procu...</td>\n",
       "      <td>justicia</td>\n",
       "    </tr>\n",
       "  </tbody>\n",
       "</table>\n",
       "<p>1866 rows × 5 columns</p>\n",
       "</div>"
      ],
      "text/plain": [
       "                                                 Enlaces  \\\n",
       "10487  https://www.eltiempo.com/cultura/al-interior-d...   \n",
       "10488  https://www.eltiempo.com/cultura/arte-y-teatro...   \n",
       "10489  https://www.eltiempo.com/cultura/arte-y-teatro...   \n",
       "10490  https://www.eltiempo.com/cultura/arte-y-teatro...   \n",
       "10491  https://www.eltiempo.com/cultura/arte-y-teatro...   \n",
       "...                                                  ...   \n",
       "12467  https://www.eltiempo.com/justicia/servicios/po...   \n",
       "12468  https://www.eltiempo.com/justicia/servicios/pr...   \n",
       "12469  https://www.eltiempo.com/justicia/servicios/qu...   \n",
       "12470  https://www.eltiempo.com/justicia/servicios/su...   \n",
       "12471  https://www.eltiempo.com/justicia/servicios/su...   \n",
       "\n",
       "                                                  Título  \\\n",
       "10487  Al interior de, aparte, roquero, rock / El len...   \n",
       "10488  Antonina Canal: 20 años de danza oriental en C...   \n",
       "10489  Aparece en Holanda cuadro de Picasso, robado h...   \n",
       "10490  Así será la programación del Carnaval de las A...   \n",
       "10491          ‘Fragmentos’ se viste de charlas y música   \n",
       "...                                                  ...   \n",
       "12467  Más de 70 mil policías apoyan jornada de aisla...   \n",
       "12468  Habrá proyecto conjunto para superar la crisis...   \n",
       "12469  ¿Qué hacer en caso de un accidente de tránsito...   \n",
       "12470  Otorgan subsidios a tres obreros del edificio ...   \n",
       "12471  En Armenia, suspendidos dos artículos del POT ...   \n",
       "\n",
       "                                                    info  \\\n",
       "10487  'Al interior de' es el reemplazo sofisticado e...   \n",
       "10488  La bailarina habló con EL TIEMPO de su trayect...   \n",
       "10489  La pintura era propiedad de un jeque saudí, Ab...   \n",
       "10490  El evento con algunos de los artistas más repr...   \n",
       "10491  El lugar donde está el monumento de la artista...   \n",
       "...                                                  ...   \n",
       "12467  Miisterio de Defensa activó dispositivo especi...   \n",
       "12468  Se revisarán “conductas antisociales” que se h...   \n",
       "12469  EL TIEMPO y la Unilibre responden a esta y otr...   \n",
       "12470  También la esposa de una de las víctimas recib...   \n",
       "12471  Se estaban dando licencias para construcciones...   \n",
       "\n",
       "                                               contenido  Etiqueta  \n",
       "10487  Citas: “Los crímenes de violencia sexual comet...   cultura  \n",
       "10488  Con motivo de la celebración de los 20 años de...   cultura  \n",
       "10489  El cuadro Busto de mujer, del artista español ...   cultura  \n",
       "10490  El Carnaval de las Artes, organizado en Barran...   cultura  \n",
       "10491  Louise du Toit, filósofa; el doctor Denis Mukw...   cultura  \n",
       "...                                                  ...       ...  \n",
       "12467  El  ministro de la Defensa, Carlos Holmes Truj...  justicia  \n",
       "12468  Después de varios contrapunteos sobre la mejor...  justicia  \n",
       "12469  El TIempo y la Universidad Libre se aliaron pa...  justicia  \n",
       "12470  Tres trabajadores del edificio Portales Blas d...  justicia  \n",
       "12471  Frente a la alerta que había prendido la Procu...  justicia  \n",
       "\n",
       "[1866 rows x 5 columns]"
      ]
     },
     "execution_count": 14,
     "metadata": {},
     "output_type": "execute_result"
    }
   ],
   "source": [
    "#Eliminar contenido vacio\n",
    "Df_filter = Df_filter.dropna(subset=['contenido'])\n",
    "\n",
    "# Tomar 300 comentarios de cada etiqueta\n",
    "#Df_filter = Df_filter.groupby('Etiqueta').head(300)\n",
    "Df_filter\n"
   ]
  },
  {
   "cell_type": "code",
   "execution_count": 15,
   "metadata": {},
   "outputs": [
    {
     "data": {
      "image/png": "[encoded data removed]",
      "text/plain": [
       "<Figure size 1000x400 with 1 Axes>"
      ]
     },
     "metadata": {},
     "output_type": "display_data"
    }
   ],
   "source": [
    "# Primeros 300 datos por etiqueta\n",
    "Df_filter=Df_filter.groupby('Etiqueta').head(300)\n",
    "\n",
    "#Graficar frecuencia\n",
    "frecuencia_etiquetas = Df_filter['Etiqueta'].value_counts()\n",
    "\n",
    "plt.figure(figsize=(10, 4))\n",
    "frecuencia_etiquetas.plot(kind='barh', color='purple')\n",
    "plt.title('Frecuencia de cada Etiqueta')\n",
    "plt.xlabel('Etiqueta')\n",
    "plt.ylabel('Frecuencia')\n",
    "plt.gca().invert_yaxis()\n",
    "plt.show()"
   ]
  },
  {
   "cell_type": "markdown",
   "metadata": {},
   "source": [
    "#### 3. Preprocesamiento"
   ]
  },
  {
   "cell_type": "code",
   "execution_count": 16,
   "metadata": {},
   "outputs": [
    {
     "data": {
      "text/html": [
       "<div>\n",
       "<style scoped>\n",
       "    .dataframe tbody tr th:only-of-type {\n",
       "        vertical-align: middle;\n",
       "    }\n",
       "\n",
       "    .dataframe tbody tr th {\n",
       "        vertical-align: top;\n",
       "    }\n",
       "\n",
       "    .dataframe thead th {\n",
       "        text-align: right;\n",
       "    }\n",
       "</style>\n",
       "<table border=\"1\" class=\"dataframe\">\n",
       "  <thead>\n",
       "    <tr style=\"text-align: right;\">\n",
       "      <th></th>\n",
       "      <th>Enlaces</th>\n",
       "      <th>Título</th>\n",
       "      <th>info</th>\n",
       "      <th>contenido</th>\n",
       "      <th>Etiqueta</th>\n",
       "    </tr>\n",
       "  </thead>\n",
       "  <tbody>\n",
       "    <tr>\n",
       "      <th>10487</th>\n",
       "      <td>https://www.eltiempo.com/cultura/al-interior-d...</td>\n",
       "      <td>Al interior de, aparte, roquero, rock / El len...</td>\n",
       "      <td>'Al interior de' es el reemplazo sofisticado e...</td>\n",
       "      <td>Citas: “Los crímenes de violencia sexual comet...</td>\n",
       "      <td>cultura</td>\n",
       "    </tr>\n",
       "    <tr>\n",
       "      <th>10488</th>\n",
       "      <td>https://www.eltiempo.com/cultura/arte-y-teatro...</td>\n",
       "      <td>Antonina Canal: 20 años de danza oriental en C...</td>\n",
       "      <td>La bailarina habló con EL TIEMPO de su trayect...</td>\n",
       "      <td>Con motivo de la celebración de los 20 años de...</td>\n",
       "      <td>cultura</td>\n",
       "    </tr>\n",
       "    <tr>\n",
       "      <th>10489</th>\n",
       "      <td>https://www.eltiempo.com/cultura/arte-y-teatro...</td>\n",
       "      <td>Aparece en Holanda cuadro de Picasso, robado h...</td>\n",
       "      <td>La pintura era propiedad de un jeque saudí, Ab...</td>\n",
       "      <td>El cuadro Busto de mujer, del artista español ...</td>\n",
       "      <td>cultura</td>\n",
       "    </tr>\n",
       "    <tr>\n",
       "      <th>10490</th>\n",
       "      <td>https://www.eltiempo.com/cultura/arte-y-teatro...</td>\n",
       "      <td>Así será la programación del Carnaval de las A...</td>\n",
       "      <td>El evento con algunos de los artistas más repr...</td>\n",
       "      <td>El Carnaval de las Artes, organizado en Barran...</td>\n",
       "      <td>cultura</td>\n",
       "    </tr>\n",
       "    <tr>\n",
       "      <th>10491</th>\n",
       "      <td>https://www.eltiempo.com/cultura/arte-y-teatro...</td>\n",
       "      <td>‘Fragmentos’ se viste de charlas y música</td>\n",
       "      <td>El lugar donde está el monumento de la artista...</td>\n",
       "      <td>Louise du Toit, filósofa; el doctor Denis Mukw...</td>\n",
       "      <td>cultura</td>\n",
       "    </tr>\n",
       "    <tr>\n",
       "      <th>...</th>\n",
       "      <td>...</td>\n",
       "      <td>...</td>\n",
       "      <td>...</td>\n",
       "      <td>...</td>\n",
       "      <td>...</td>\n",
       "    </tr>\n",
       "    <tr>\n",
       "      <th>12424</th>\n",
       "      <td>https://www.eltiempo.com/justicia/investigacio...</td>\n",
       "      <td>Duque promete sanciones ejemplares a quienes h...</td>\n",
       "      <td>El mandatario habló tras investigación de Sema...</td>\n",
       "      <td>“Aquí hay cero tolerancia con cualquier miembr...</td>\n",
       "      <td>justicia</td>\n",
       "    </tr>\n",
       "    <tr>\n",
       "      <th>12425</th>\n",
       "      <td>https://www.eltiempo.com/justicia/investigacio...</td>\n",
       "      <td>¿Qué hay contra los dos generales investigados...</td>\n",
       "      <td>Procuraduría busca determinar si tomaron medid...</td>\n",
       "      <td>Por los hechos relacionados con el atentado a ...</td>\n",
       "      <td>justicia</td>\n",
       "    </tr>\n",
       "    <tr>\n",
       "      <th>12426</th>\n",
       "      <td>https://www.eltiempo.com/justicia/investigacio...</td>\n",
       "      <td>Reclutador de 'falsos positivos' se retracta e...</td>\n",
       "      <td>Alexander Carretero dice que aceptó la respons...</td>\n",
       "      <td>Alexander Carretero Díaz, uno de los principal...</td>\n",
       "      <td>justicia</td>\n",
       "    </tr>\n",
       "    <tr>\n",
       "      <th>12427</th>\n",
       "      <td>https://www.eltiempo.com/justicia/investigacio...</td>\n",
       "      <td>Recuperan respirador artificial que había sido...</td>\n",
       "      <td>Se trata de un equipo biomédico para el tratam...</td>\n",
       "      <td>La Policía Nacional informó que miembros de es...</td>\n",
       "      <td>justicia</td>\n",
       "    </tr>\n",
       "    <tr>\n",
       "      <th>12428</th>\n",
       "      <td>https://www.eltiempo.com/justicia/investigacio...</td>\n",
       "      <td>Registrador cobraba por nacionalización ilegal...</td>\n",
       "      <td>Siete personas más están siendo procesadas por...</td>\n",
       "      <td>Por expedir irregularmente cerca de 700 regist...</td>\n",
       "      <td>justicia</td>\n",
       "    </tr>\n",
       "  </tbody>\n",
       "</table>\n",
       "<p>1200 rows × 5 columns</p>\n",
       "</div>"
      ],
      "text/plain": [
       "                                                 Enlaces  \\\n",
       "10487  https://www.eltiempo.com/cultura/al-interior-d...   \n",
       "10488  https://www.eltiempo.com/cultura/arte-y-teatro...   \n",
       "10489  https://www.eltiempo.com/cultura/arte-y-teatro...   \n",
       "10490  https://www.eltiempo.com/cultura/arte-y-teatro...   \n",
       "10491  https://www.eltiempo.com/cultura/arte-y-teatro...   \n",
       "...                                                  ...   \n",
       "12424  https://www.eltiempo.com/justicia/investigacio...   \n",
       "12425  https://www.eltiempo.com/justicia/investigacio...   \n",
       "12426  https://www.eltiempo.com/justicia/investigacio...   \n",
       "12427  https://www.eltiempo.com/justicia/investigacio...   \n",
       "12428  https://www.eltiempo.com/justicia/investigacio...   \n",
       "\n",
       "                                                  Título  \\\n",
       "10487  Al interior de, aparte, roquero, rock / El len...   \n",
       "10488  Antonina Canal: 20 años de danza oriental en C...   \n",
       "10489  Aparece en Holanda cuadro de Picasso, robado h...   \n",
       "10490  Así será la programación del Carnaval de las A...   \n",
       "10491          ‘Fragmentos’ se viste de charlas y música   \n",
       "...                                                  ...   \n",
       "12424  Duque promete sanciones ejemplares a quienes h...   \n",
       "12425  ¿Qué hay contra los dos generales investigados...   \n",
       "12426  Reclutador de 'falsos positivos' se retracta e...   \n",
       "12427  Recuperan respirador artificial que había sido...   \n",
       "12428  Registrador cobraba por nacionalización ilegal...   \n",
       "\n",
       "                                                    info  \\\n",
       "10487  'Al interior de' es el reemplazo sofisticado e...   \n",
       "10488  La bailarina habló con EL TIEMPO de su trayect...   \n",
       "10489  La pintura era propiedad de un jeque saudí, Ab...   \n",
       "10490  El evento con algunos de los artistas más repr...   \n",
       "10491  El lugar donde está el monumento de la artista...   \n",
       "...                                                  ...   \n",
       "12424  El mandatario habló tras investigación de Sema...   \n",
       "12425  Procuraduría busca determinar si tomaron medid...   \n",
       "12426  Alexander Carretero dice que aceptó la respons...   \n",
       "12427  Se trata de un equipo biomédico para el tratam...   \n",
       "12428  Siete personas más están siendo procesadas por...   \n",
       "\n",
       "                                               contenido  Etiqueta  \n",
       "10487  Citas: “Los crímenes de violencia sexual comet...   cultura  \n",
       "10488  Con motivo de la celebración de los 20 años de...   cultura  \n",
       "10489  El cuadro Busto de mujer, del artista español ...   cultura  \n",
       "10490  El Carnaval de las Artes, organizado en Barran...   cultura  \n",
       "10491  Louise du Toit, filósofa; el doctor Denis Mukw...   cultura  \n",
       "...                                                  ...       ...  \n",
       "12424  “Aquí hay cero tolerancia con cualquier miembr...  justicia  \n",
       "12425  Por los hechos relacionados con el atentado a ...  justicia  \n",
       "12426  Alexander Carretero Díaz, uno de los principal...  justicia  \n",
       "12427  La Policía Nacional informó que miembros de es...  justicia  \n",
       "12428  Por expedir irregularmente cerca de 700 regist...  justicia  \n",
       "\n",
       "[1200 rows x 5 columns]"
      ]
     },
     "execution_count": 16,
     "metadata": {},
     "output_type": "execute_result"
    }
   ],
   "source": [
    "\n",
    "# Crear una copia de Df_filter para Df_pre\n",
    "Df_pre = Df_filter.copy()\n",
    "\n",
    "Df_pre\n",
    "\n"
   ]
  },
  {
   "cell_type": "code",
   "execution_count": 17,
   "metadata": {},
   "outputs": [
    {
     "name": "stderr",
     "output_type": "stream",
     "text": [
      "[nltk_data] Downloading package stopwords to\n",
      "[nltk_data]     C:\\Users\\USER\\AppData\\Roaming\\nltk_data...\n",
      "[nltk_data]   Package stopwords is already up-to-date!\n"
     ]
    }
   ],
   "source": [
    "import tensorflow as tf\n",
    "from tensorflow.keras.models import Sequential\n",
    "from tensorflow.keras.layers import SimpleRNN, LSTM, Dense, Embedding\n",
    "from sklearn.pipeline import Pipeline\n",
    "from sklearn.model_selection import train_test_split\n",
    "from sklearn.preprocessing import LabelEncoder\n",
    "from sklearn.base import BaseEstimator, TransformerMixin\n",
    "from nltk.corpus import stopwords\n",
    "import spacy\n",
    "import re\n",
    "import nltk\n",
    "import pandas as pd\n",
    "import numpy as np\n",
    "import matplotlib.pyplot as plt\n",
    "import seaborn as sns\n",
    "from sklearn.metrics import classification_report, confusion_matrix, accuracy_score, precision_score, recall_score, f1_score\n",
    "\n",
    "nltk.download('stopwords')\n",
    "\n",
    "# Cargar modelo de SpaCy\n",
    "nlp = spacy.load('es_core_news_sm')\n",
    "\n",
    "# 1. Clase para Normalizar el texto\n",
    "class TextNormalizer(BaseEstimator, TransformerMixin):\n",
    "    def __init__(self):\n",
    "        self.stop_words = set(stopwords.words('spanish'))\n",
    "\n",
    "    def normalize_text(self, text):\n",
    "        text = text.lower()\n",
    "        text = re.sub(r\"[.,!?]\", r\" \\g<0> \", text)  # Espacios antes y después de puntuación\n",
    "        text = re.sub(r\"[\\W\\d_]+\", \" \", text)  # Eliminar caracteres especiales y números\n",
    "        text = \" \".join([word for word in text.split() if word not in self.stop_words])  # Remover stopwords\n",
    "        return text.strip()\n",
    "\n",
    "    def transform(self, X, **kwargs):\n",
    "        return X.apply(self.normalize_text)\n",
    "\n",
    "    def fit(self, X, y=None, **kwargs):\n",
    "        return self\n",
    "\n",
    "# 2. Clase para Lematizar el texto\n",
    "class TextLemmatizer(BaseEstimator, TransformerMixin):\n",
    "    def transform(self, X, **kwargs):\n",
    "        return X.apply(lambda x: \" \".join([token.lemma_ for token in nlp(x)]))\n",
    "\n",
    "    def fit(self, X, y=None, **kwargs):\n",
    "        return self\n",
    "\n",
    "# 3. Clase para Tokenizar el texto\n",
    "class TextTokenizer(BaseEstimator, TransformerMixin):\n",
    "    def __init__(self):\n",
    "        self.tokenizer = tf.keras.preprocessing.text.Tokenizer()\n",
    "        self.max_sequence_len = 0\n",
    "\n",
    "    def fit(self, X, y=None):\n",
    "        self.tokenizer.fit_on_texts(X)\n",
    "        self.max_sequence_len = max([len(x.split()) for x in X])\n",
    "        return self\n",
    "\n",
    "    def transform(self, X, **kwargs):\n",
    "        sequences = self.tokenizer.texts_to_sequences(X)\n",
    "        self.sequences = tf.keras.preprocessing.sequence.pad_sequences(sequences, maxlen=self.max_sequence_len)\n",
    "        return self.sequences\n",
    "\n",
    "    def get_word_index(self):\n",
    "        return self.tokenizer.word_index\n",
    "\n",
    "    def get_sequences(self):\n",
    "        return self.sequences\n",
    "\n",
    "# 4. Clase para Codificar las etiquetas\n",
    "class LabelEncoderTransformer(BaseEstimator, TransformerMixin):\n",
    "    def __init__(self):\n",
    "        self.label_encoder = LabelEncoder()\n",
    "\n",
    "    def fit(self, y):\n",
    "        self.label_encoder.fit(y)\n",
    "        return self\n",
    "\n",
    "    def transform(self, y, **kwargs):\n",
    "        labels_encoded = self.label_encoder.transform(y)\n",
    "        return tf.keras.utils.to_categorical(labels_encoded, num_classes=len(self.label_encoder.classes_))\n",
    "\n",
    "# 5. Definir el Pipeline de procesamiento de texto\n",
    "text_pipeline = Pipeline([\n",
    "    ('normalizer', TextNormalizer()),\n",
    "    ('lemmatizer', TextLemmatizer()),\n",
    "    ('tokenizer', TextTokenizer())\n",
    "])\n",
    "\n",
    "# Configurar el tamaño máximo de secuencia\n",
    "max_sequence_len = 300\n",
    "text_pipeline.named_steps['tokenizer'].max_sequence_len = max_sequence_len\n",
    "\n",
    "# 7. Extraer las oraciones y etiquetas del DataFrame\n",
    "sentences = Df_pre['contenido']\n",
    "labels = Df_pre['Etiqueta'].tolist()\n",
    "\n",
    "# 8. Normalizar, lematizar y tokenizar las oraciones\n",
    "X_processed = text_pipeline.fit_transform(sentences)\n",
    "sequences = text_pipeline.named_steps['tokenizer'].get_sequences()\n",
    "\n",
    "# 10. Codificar las etiquetas\n",
    "y_encoder = LabelEncoderTransformer()\n",
    "y = y_encoder.fit_transform(labels)\n",
    "\n",
    "# 9. Dividir los datos en conjuntos de entrenamiento y prueba\n",
    "X_train, X_test, y_train, y_test = train_test_split(X_processed, y, test_size=0.2, random_state=42)\n"
   ]
  },
  {
   "cell_type": "code",
   "execution_count": 18,
   "metadata": {},
   "outputs": [],
   "source": [
    "#print(\"Índice de palabras del tokenizador:\")\n",
    "#print(word_index)"
   ]
  },
  {
   "cell_type": "code",
   "execution_count": 19,
   "metadata": {},
   "outputs": [],
   "source": [
    "#sequences"
   ]
  },
  {
   "cell_type": "markdown",
   "metadata": {},
   "source": [
    "#### RNN"
   ]
  },
  {
   "cell_type": "code",
   "execution_count": 20,
   "metadata": {},
   "outputs": [
    {
     "name": "stdout",
     "output_type": "stream",
     "text": [
      "Epoch 1/5\n"
     ]
    },
    {
     "name": "stderr",
     "output_type": "stream",
     "text": [
      "c:\\Users\\USER\\miniconda3\\envs\\entorno_npl_ean_py3.10\\lib\\site-packages\\keras\\src\\layers\\core\\embedding.py:90: UserWarning: Argument `input_length` is deprecated. Just remove it.\n",
      "  warnings.warn(\n"
     ]
    },
    {
     "name": "stdout",
     "output_type": "stream",
     "text": [
      "\u001b[1m24/24\u001b[0m \u001b[32m━━━━━━━━━━━━━━━━━━━━\u001b[0m\u001b[37m\u001b[0m \u001b[1m15s\u001b[0m 575ms/step - accuracy: 0.2328 - loss: 1.4189 - val_accuracy: 0.2292 - val_loss: 1.4230\n",
      "Epoch 2/5\n",
      "\u001b[1m24/24\u001b[0m \u001b[32m━━━━━━━━━━━━━━━━━━━━\u001b[0m\u001b[37m\u001b[0m \u001b[1m16s\u001b[0m 656ms/step - accuracy: 0.2493 - loss: 1.3991 - val_accuracy: 0.2604 - val_loss: 1.3860\n",
      "Epoch 3/5\n",
      "\u001b[1m24/24\u001b[0m \u001b[32m━━━━━━━━━━━━━━━━━━━━\u001b[0m\u001b[37m\u001b[0m \u001b[1m15s\u001b[0m 626ms/step - accuracy: 0.3667 - loss: 1.3428 - val_accuracy: 0.2865 - val_loss: 1.3765\n",
      "Epoch 4/5\n",
      "\u001b[1m24/24\u001b[0m \u001b[32m━━━━━━━━━━━━━━━━━━━━\u001b[0m\u001b[37m\u001b[0m \u001b[1m16s\u001b[0m 656ms/step - accuracy: 0.3748 - loss: 1.3447 - val_accuracy: 0.2292 - val_loss: 1.4187\n",
      "Epoch 5/5\n",
      "\u001b[1m24/24\u001b[0m \u001b[32m━━━━━━━━━━━━━━━━━━━━\u001b[0m\u001b[37m\u001b[0m \u001b[1m17s\u001b[0m 703ms/step - accuracy: 0.2707 - loss: 1.3944 - val_accuracy: 0.3438 - val_loss: 1.3659\n"
     ]
    },
    {
     "data": {
      "text/html": [
       "<pre style=\"white-space:pre;overflow-x:auto;line-height:normal;font-family:Menlo,'DejaVu Sans Mono',consolas,'Courier New',monospace\"><span style=\"font-weight: bold\">Model: \"sequential_1\"</span>\n",
       "</pre>\n"
      ],
      "text/plain": [
       "\u001b[1mModel: \"sequential_1\"\u001b[0m\n"
      ]
     },
     "metadata": {},
     "output_type": "display_data"
    },
    {
     "data": {
      "text/html": [
       "<pre style=\"white-space:pre;overflow-x:auto;line-height:normal;font-family:Menlo,'DejaVu Sans Mono',consolas,'Courier New',monospace\">┏━━━━━━━━━━━━━━━━━━━━━━━━━━━━━━━━━┳━━━━━━━━━━━━━━━━━━━━━━━━┳━━━━━━━━━━━━━━━┓\n",
       "┃<span style=\"font-weight: bold\"> Layer (type)                    </span>┃<span style=\"font-weight: bold\"> Output Shape           </span>┃<span style=\"font-weight: bold\">       Param # </span>┃\n",
       "┡━━━━━━━━━━━━━━━━━━━━━━━━━━━━━━━━━╇━━━━━━━━━━━━━━━━━━━━━━━━╇━━━━━━━━━━━━━━━┩\n",
       "│ embedding_1 (<span style=\"color: #0087ff; text-decoration-color: #0087ff\">Embedding</span>)         │ (<span style=\"color: #00af00; text-decoration-color: #00af00\">32</span>, <span style=\"color: #00af00; text-decoration-color: #00af00\">2768</span>, <span style=\"color: #00af00; text-decoration-color: #00af00\">8</span>)          │       <span style=\"color: #00af00; text-decoration-color: #00af00\">228,576</span> │\n",
       "├─────────────────────────────────┼────────────────────────┼───────────────┤\n",
       "│ simple_rnn_1 (<span style=\"color: #0087ff; text-decoration-color: #0087ff\">SimpleRNN</span>)        │ (<span style=\"color: #00af00; text-decoration-color: #00af00\">32</span>, <span style=\"color: #00af00; text-decoration-color: #00af00\">32</span>)               │         <span style=\"color: #00af00; text-decoration-color: #00af00\">1,312</span> │\n",
       "├─────────────────────────────────┼────────────────────────┼───────────────┤\n",
       "│ dense_1 (<span style=\"color: #0087ff; text-decoration-color: #0087ff\">Dense</span>)                 │ (<span style=\"color: #00af00; text-decoration-color: #00af00\">32</span>, <span style=\"color: #00af00; text-decoration-color: #00af00\">4</span>)                │           <span style=\"color: #00af00; text-decoration-color: #00af00\">132</span> │\n",
       "└─────────────────────────────────┴────────────────────────┴───────────────┘\n",
       "</pre>\n"
      ],
      "text/plain": [
       "┏━━━━━━━━━━━━━━━━━━━━━━━━━━━━━━━━━┳━━━━━━━━━━━━━━━━━━━━━━━━┳━━━━━━━━━━━━━━━┓\n",
       "┃\u001b[1m \u001b[0m\u001b[1mLayer (type)                   \u001b[0m\u001b[1m \u001b[0m┃\u001b[1m \u001b[0m\u001b[1mOutput Shape          \u001b[0m\u001b[1m \u001b[0m┃\u001b[1m \u001b[0m\u001b[1m      Param #\u001b[0m\u001b[1m \u001b[0m┃\n",
       "┡━━━━━━━━━━━━━━━━━━━━━━━━━━━━━━━━━╇━━━━━━━━━━━━━━━━━━━━━━━━╇━━━━━━━━━━━━━━━┩\n",
       "│ embedding_1 (\u001b[38;5;33mEmbedding\u001b[0m)         │ (\u001b[38;5;34m32\u001b[0m, \u001b[38;5;34m2768\u001b[0m, \u001b[38;5;34m8\u001b[0m)          │       \u001b[38;5;34m228,576\u001b[0m │\n",
       "├─────────────────────────────────┼────────────────────────┼───────────────┤\n",
       "│ simple_rnn_1 (\u001b[38;5;33mSimpleRNN\u001b[0m)        │ (\u001b[38;5;34m32\u001b[0m, \u001b[38;5;34m32\u001b[0m)               │         \u001b[38;5;34m1,312\u001b[0m │\n",
       "├─────────────────────────────────┼────────────────────────┼───────────────┤\n",
       "│ dense_1 (\u001b[38;5;33mDense\u001b[0m)                 │ (\u001b[38;5;34m32\u001b[0m, \u001b[38;5;34m4\u001b[0m)                │           \u001b[38;5;34m132\u001b[0m │\n",
       "└─────────────────────────────────┴────────────────────────┴───────────────┘\n"
      ]
     },
     "metadata": {},
     "output_type": "display_data"
    },
    {
     "data": {
      "text/html": [
       "<pre style=\"white-space:pre;overflow-x:auto;line-height:normal;font-family:Menlo,'DejaVu Sans Mono',consolas,'Courier New',monospace\"><span style=\"font-weight: bold\"> Total params: </span><span style=\"color: #00af00; text-decoration-color: #00af00\">460,042</span> (1.75 MB)\n",
       "</pre>\n"
      ],
      "text/plain": [
       "\u001b[1m Total params: \u001b[0m\u001b[38;5;34m460,042\u001b[0m (1.75 MB)\n"
      ]
     },
     "metadata": {},
     "output_type": "display_data"
    },
    {
     "data": {
      "text/html": [
       "<pre style=\"white-space:pre;overflow-x:auto;line-height:normal;font-family:Menlo,'DejaVu Sans Mono',consolas,'Courier New',monospace\"><span style=\"font-weight: bold\"> Trainable params: </span><span style=\"color: #00af00; text-decoration-color: #00af00\">230,020</span> (898.52 KB)\n",
       "</pre>\n"
      ],
      "text/plain": [
       "\u001b[1m Trainable params: \u001b[0m\u001b[38;5;34m230,020\u001b[0m (898.52 KB)\n"
      ]
     },
     "metadata": {},
     "output_type": "display_data"
    },
    {
     "data": {
      "text/html": [
       "<pre style=\"white-space:pre;overflow-x:auto;line-height:normal;font-family:Menlo,'DejaVu Sans Mono',consolas,'Courier New',monospace\"><span style=\"font-weight: bold\"> Non-trainable params: </span><span style=\"color: #00af00; text-decoration-color: #00af00\">0</span> (0.00 B)\n",
       "</pre>\n"
      ],
      "text/plain": [
       "\u001b[1m Non-trainable params: \u001b[0m\u001b[38;5;34m0\u001b[0m (0.00 B)\n"
      ]
     },
     "metadata": {},
     "output_type": "display_data"
    },
    {
     "data": {
      "text/html": [
       "<pre style=\"white-space:pre;overflow-x:auto;line-height:normal;font-family:Menlo,'DejaVu Sans Mono',consolas,'Courier New',monospace\"><span style=\"font-weight: bold\"> Optimizer params: </span><span style=\"color: #00af00; text-decoration-color: #00af00\">230,022</span> (898.53 KB)\n",
       "</pre>\n"
      ],
      "text/plain": [
       "\u001b[1m Optimizer params: \u001b[0m\u001b[38;5;34m230,022\u001b[0m (898.53 KB)\n"
      ]
     },
     "metadata": {},
     "output_type": "display_data"
    }
   ],
   "source": [
    "# 1. Crear el modelo RNN\n",
    "model_rnn = Sequential([\n",
    "    Embedding(input_dim=len(text_pipeline.named_steps['tokenizer'].get_word_index())+1, output_dim=8, input_length=text_pipeline.named_steps['tokenizer'].max_sequence_len),\n",
    "    SimpleRNN(32),\n",
    "    Dense(len(y_encoder.label_encoder.classes_), activation='softmax')\n",
    "])\n",
    "\n",
    "# 2. Compilar el modelo RNN\n",
    "model_rnn.compile(optimizer=tf.keras.optimizers.RMSprop(learning_rate=0.001), loss='categorical_crossentropy', metrics=['accuracy'])\n",
    "\n",
    "# 3. Entrenar el modelo RNN\n",
    "model_rnn.fit(X_train, y_train, epochs=5, batch_size=32, validation_split=0.2)\n",
    "\n",
    "# 4. Mostrar resumen del modelo RNN\n",
    "model_rnn.summary()"
   ]
  },
  {
   "cell_type": "code",
   "execution_count": 21,
   "metadata": {},
   "outputs": [
    {
     "name": "stdout",
     "output_type": "stream",
     "text": [
      "\u001b[1m8/8\u001b[0m \u001b[32m━━━━━━━━━━━━━━━━━━━━\u001b[0m\u001b[37m\u001b[0m \u001b[1m1s\u001b[0m 79ms/step\n",
      "\n",
      "Reporte de Clasificación (RNN):\n",
      "               precision    recall  f1-score   support\n",
      "\n",
      "     cultura       1.00      0.02      0.03        62\n",
      "    deportes       0.31      0.38      0.34        60\n",
      "    economia       0.26      0.65      0.38        60\n",
      "    justicia       0.38      0.10      0.16        58\n",
      "\n",
      "    accuracy                           0.29       240\n",
      "   macro avg       0.49      0.29      0.23       240\n",
      "weighted avg       0.49      0.29      0.23       240\n",
      "\n",
      "\n",
      "Métricas Adicionales (RNN):\n",
      "Accuracy: 0.2875\n",
      "Precision: 0.4915\n",
      "Recall: 0.2875\n",
      "F1 Score: 0.2263\n"
     ]
    },
    {
     "data": {
      "image/png": "[encoded data removed]",
      "text/plain": [
       "<Figure size 500x400 with 2 Axes>"
      ]
     },
     "metadata": {},
     "output_type": "display_data"
    }
   ],
   "source": [
    "# 5. Predecir en el conjunto de prueba con RNN\n",
    "y_pred_prob_rnn = model_rnn.predict(X_test)\n",
    "y_pred_rnn = np.argmax(y_pred_prob_rnn, axis=1)\n",
    "y_true = np.argmax(y_test, axis=1)\n",
    "\n",
    "# 6. Obtener el reporte de clasificación para RNN\n",
    "report_rnn = classification_report(y_true, y_pred_rnn, target_names=y_encoder.label_encoder.classes_)\n",
    "print(\"\\nReporte de Clasificación (RNN):\\n\", report_rnn)\n",
    "\n",
    "# 7. Calcular y mostrar las métricas adicionales para RNN\n",
    "accuracy_rnn = accuracy_score(y_true, y_pred_rnn)\n",
    "precision_rnn = precision_score(y_true, y_pred_rnn, average='weighted')\n",
    "recall_rnn = recall_score(y_true, y_pred_rnn, average='weighted')\n",
    "f1_rnn = f1_score(y_true, y_pred_rnn, average='weighted')\n",
    "\n",
    "print(\"\\nMétricas Adicionales (RNN):\")\n",
    "print(f\"Accuracy: {accuracy_rnn:.4f}\")\n",
    "print(f\"Precision: {precision_rnn:.4f}\")\n",
    "print(f\"Recall: {recall_rnn:.4f}\")\n",
    "print(f\"F1 Score: {f1_rnn:.4f}\")\n",
    "\n",
    "# 8. Matriz de confusión para RNN\n",
    "conf_matrix_rnn = confusion_matrix(y_true, y_pred_rnn)\n",
    "plt.figure(figsize=(5, 4))\n",
    "sns.heatmap(conf_matrix_rnn, annot=True, cmap='Blues', fmt='g', xticklabels=y_encoder.label_encoder.classes_, yticklabels=y_encoder.label_encoder.classes_)\n",
    "plt.xlabel('Predicted Label (RNN)')\n",
    "plt.ylabel('True Label (RNN)')\n",
    "plt.title('Confusion Matrix (RNN)')\n",
    "plt.show()\n"
   ]
  },
  {
   "cell_type": "markdown",
   "metadata": {},
   "source": [
    "#### LSTM"
   ]
  },
  {
   "cell_type": "code",
   "execution_count": 28,
   "metadata": {},
   "outputs": [
    {
     "name": "stdout",
     "output_type": "stream",
     "text": [
      "Epoch 1/5\n"
     ]
    },
    {
     "name": "stderr",
     "output_type": "stream",
     "text": [
      "c:\\Users\\USER\\miniconda3\\envs\\entorno_npl_ean_py3.10\\lib\\site-packages\\keras\\src\\layers\\core\\embedding.py:90: UserWarning: Argument `input_length` is deprecated. Just remove it.\n",
      "  warnings.warn(\n"
     ]
    },
    {
     "name": "stdout",
     "output_type": "stream",
     "text": [
      "\u001b[1m24/24\u001b[0m \u001b[32m━━━━━━━━━━━━━━━━━━━━\u001b[0m\u001b[37m\u001b[0m \u001b[1m23s\u001b[0m 881ms/step - accuracy: 0.2513 - loss: 1.3875 - val_accuracy: 0.2188 - val_loss: 1.3882\n",
      "Epoch 2/5\n",
      "\u001b[1m24/24\u001b[0m \u001b[32m━━━━━━━━━━━━━━━━━━━━\u001b[0m\u001b[37m\u001b[0m \u001b[1m22s\u001b[0m 937ms/step - accuracy: 0.2496 - loss: 1.3862 - val_accuracy: 0.2188 - val_loss: 1.3883\n",
      "Epoch 3/5\n",
      "\u001b[1m24/24\u001b[0m \u001b[32m━━━━━━━━━━━━━━━━━━━━\u001b[0m\u001b[37m\u001b[0m \u001b[1m23s\u001b[0m 948ms/step - accuracy: 0.2859 - loss: 1.3855 - val_accuracy: 0.2240 - val_loss: 1.3878\n",
      "Epoch 4/5\n",
      "\u001b[1m24/24\u001b[0m \u001b[32m━━━━━━━━━━━━━━━━━━━━\u001b[0m\u001b[37m\u001b[0m \u001b[1m24s\u001b[0m 990ms/step - accuracy: 0.2544 - loss: 1.3859 - val_accuracy: 0.2188 - val_loss: 1.3884\n",
      "Epoch 5/5\n",
      "\u001b[1m24/24\u001b[0m \u001b[32m━━━━━━━━━━━━━━━━━━━━\u001b[0m\u001b[37m\u001b[0m \u001b[1m25s\u001b[0m 1s/step - accuracy: 0.2225 - loss: 1.3859 - val_accuracy: 0.2188 - val_loss: 1.3886\n"
     ]
    },
    {
     "data": {
      "text/html": [
       "<pre style=\"white-space:pre;overflow-x:auto;line-height:normal;font-family:Menlo,'DejaVu Sans Mono',consolas,'Courier New',monospace\"><span style=\"font-weight: bold\">Model: \"sequential_3\"</span>\n",
       "</pre>\n"
      ],
      "text/plain": [
       "\u001b[1mModel: \"sequential_3\"\u001b[0m\n"
      ]
     },
     "metadata": {},
     "output_type": "display_data"
    },
    {
     "data": {
      "text/html": [
       "<pre style=\"white-space:pre;overflow-x:auto;line-height:normal;font-family:Menlo,'DejaVu Sans Mono',consolas,'Courier New',monospace\">┏━━━━━━━━━━━━━━━━━━━━━━━━━━━━━━━━━┳━━━━━━━━━━━━━━━━━━━━━━━━┳━━━━━━━━━━━━━━━┓\n",
       "┃<span style=\"font-weight: bold\"> Layer (type)                    </span>┃<span style=\"font-weight: bold\"> Output Shape           </span>┃<span style=\"font-weight: bold\">       Param # </span>┃\n",
       "┡━━━━━━━━━━━━━━━━━━━━━━━━━━━━━━━━━╇━━━━━━━━━━━━━━━━━━━━━━━━╇━━━━━━━━━━━━━━━┩\n",
       "│ embedding_3 (<span style=\"color: #0087ff; text-decoration-color: #0087ff\">Embedding</span>)         │ (<span style=\"color: #00af00; text-decoration-color: #00af00\">32</span>, <span style=\"color: #00af00; text-decoration-color: #00af00\">2768</span>, <span style=\"color: #00af00; text-decoration-color: #00af00\">8</span>)          │       <span style=\"color: #00af00; text-decoration-color: #00af00\">228,576</span> │\n",
       "├─────────────────────────────────┼────────────────────────┼───────────────┤\n",
       "│ lstm_1 (<span style=\"color: #0087ff; text-decoration-color: #0087ff\">LSTM</span>)                   │ (<span style=\"color: #00af00; text-decoration-color: #00af00\">32</span>, <span style=\"color: #00af00; text-decoration-color: #00af00\">64</span>)               │        <span style=\"color: #00af00; text-decoration-color: #00af00\">18,688</span> │\n",
       "├─────────────────────────────────┼────────────────────────┼───────────────┤\n",
       "│ dense_3 (<span style=\"color: #0087ff; text-decoration-color: #0087ff\">Dense</span>)                 │ (<span style=\"color: #00af00; text-decoration-color: #00af00\">32</span>, <span style=\"color: #00af00; text-decoration-color: #00af00\">4</span>)                │           <span style=\"color: #00af00; text-decoration-color: #00af00\">260</span> │\n",
       "└─────────────────────────────────┴────────────────────────┴───────────────┘\n",
       "</pre>\n"
      ],
      "text/plain": [
       "┏━━━━━━━━━━━━━━━━━━━━━━━━━━━━━━━━━┳━━━━━━━━━━━━━━━━━━━━━━━━┳━━━━━━━━━━━━━━━┓\n",
       "┃\u001b[1m \u001b[0m\u001b[1mLayer (type)                   \u001b[0m\u001b[1m \u001b[0m┃\u001b[1m \u001b[0m\u001b[1mOutput Shape          \u001b[0m\u001b[1m \u001b[0m┃\u001b[1m \u001b[0m\u001b[1m      Param #\u001b[0m\u001b[1m \u001b[0m┃\n",
       "┡━━━━━━━━━━━━━━━━━━━━━━━━━━━━━━━━━╇━━━━━━━━━━━━━━━━━━━━━━━━╇━━━━━━━━━━━━━━━┩\n",
       "│ embedding_3 (\u001b[38;5;33mEmbedding\u001b[0m)         │ (\u001b[38;5;34m32\u001b[0m, \u001b[38;5;34m2768\u001b[0m, \u001b[38;5;34m8\u001b[0m)          │       \u001b[38;5;34m228,576\u001b[0m │\n",
       "├─────────────────────────────────┼────────────────────────┼───────────────┤\n",
       "│ lstm_1 (\u001b[38;5;33mLSTM\u001b[0m)                   │ (\u001b[38;5;34m32\u001b[0m, \u001b[38;5;34m64\u001b[0m)               │        \u001b[38;5;34m18,688\u001b[0m │\n",
       "├─────────────────────────────────┼────────────────────────┼───────────────┤\n",
       "│ dense_3 (\u001b[38;5;33mDense\u001b[0m)                 │ (\u001b[38;5;34m32\u001b[0m, \u001b[38;5;34m4\u001b[0m)                │           \u001b[38;5;34m260\u001b[0m │\n",
       "└─────────────────────────────────┴────────────────────────┴───────────────┘\n"
      ]
     },
     "metadata": {},
     "output_type": "display_data"
    },
    {
     "data": {
      "text/html": [
       "<pre style=\"white-space:pre;overflow-x:auto;line-height:normal;font-family:Menlo,'DejaVu Sans Mono',consolas,'Courier New',monospace\"><span style=\"font-weight: bold\"> Total params: </span><span style=\"color: #00af00; text-decoration-color: #00af00\">495,050</span> (1.89 MB)\n",
       "</pre>\n"
      ],
      "text/plain": [
       "\u001b[1m Total params: \u001b[0m\u001b[38;5;34m495,050\u001b[0m (1.89 MB)\n"
      ]
     },
     "metadata": {},
     "output_type": "display_data"
    },
    {
     "data": {
      "text/html": [
       "<pre style=\"white-space:pre;overflow-x:auto;line-height:normal;font-family:Menlo,'DejaVu Sans Mono',consolas,'Courier New',monospace\"><span style=\"font-weight: bold\"> Trainable params: </span><span style=\"color: #00af00; text-decoration-color: #00af00\">247,524</span> (966.89 KB)\n",
       "</pre>\n"
      ],
      "text/plain": [
       "\u001b[1m Trainable params: \u001b[0m\u001b[38;5;34m247,524\u001b[0m (966.89 KB)\n"
      ]
     },
     "metadata": {},
     "output_type": "display_data"
    },
    {
     "data": {
      "text/html": [
       "<pre style=\"white-space:pre;overflow-x:auto;line-height:normal;font-family:Menlo,'DejaVu Sans Mono',consolas,'Courier New',monospace\"><span style=\"font-weight: bold\"> Non-trainable params: </span><span style=\"color: #00af00; text-decoration-color: #00af00\">0</span> (0.00 B)\n",
       "</pre>\n"
      ],
      "text/plain": [
       "\u001b[1m Non-trainable params: \u001b[0m\u001b[38;5;34m0\u001b[0m (0.00 B)\n"
      ]
     },
     "metadata": {},
     "output_type": "display_data"
    },
    {
     "data": {
      "text/html": [
       "<pre style=\"white-space:pre;overflow-x:auto;line-height:normal;font-family:Menlo,'DejaVu Sans Mono',consolas,'Courier New',monospace\"><span style=\"font-weight: bold\"> Optimizer params: </span><span style=\"color: #00af00; text-decoration-color: #00af00\">247,526</span> (966.90 KB)\n",
       "</pre>\n"
      ],
      "text/plain": [
       "\u001b[1m Optimizer params: \u001b[0m\u001b[38;5;34m247,526\u001b[0m (966.90 KB)\n"
      ]
     },
     "metadata": {},
     "output_type": "display_data"
    }
   ],
   "source": [
    "# 1. Crear el modelo LSTM\n",
    "model_lstm = Sequential([\n",
    "    Embedding(input_dim=len(text_pipeline.named_steps['tokenizer'].get_word_index())+1, output_dim=8, input_length=text_pipeline.named_steps['tokenizer'].max_sequence_len),\n",
    "    LSTM(64, dropout=0.2, recurrent_dropout=0.2),\n",
    "    Dense(len(y_encoder.label_encoder.classes_), activation='softmax')\n",
    "])\n",
    "\n",
    "# 2. Compilar el modelo LSTM\n",
    "model_lstm.compile(optimizer=tf.keras.optimizers.RMSprop(learning_rate=0.001), loss='categorical_crossentropy', metrics=['accuracy'])\n",
    "\n",
    "# 3. Entrenar el modelo LSTM\n",
    "model_lstm.fit(X_train, y_train, epochs=5, batch_size=32, validation_split=0.2)\n",
    "\n",
    "# 4. Mostrar resumen del modelo LSTM\n",
    "model_lstm.summary()"
   ]
  },
  {
   "cell_type": "code",
   "execution_count": 29,
   "metadata": {},
   "outputs": [
    {
     "name": "stdout",
     "output_type": "stream",
     "text": [
      "WARNING:tensorflow:5 out of the last 17 calls to <function TensorFlowTrainer.make_predict_function.<locals>.one_step_on_data_distributed at 0x000001FF80292560> triggered tf.function retracing. Tracing is expensive and the excessive number of tracings could be due to (1) creating @tf.function repeatedly in a loop, (2) passing tensors with different shapes, (3) passing Python objects instead of tensors. For (1), please define your @tf.function outside of the loop. For (2), @tf.function has reduce_retracing=True option that can avoid unnecessary retracing. For (3), please refer to https://www.tensorflow.org/guide/function#controlling_retracing and https://www.tensorflow.org/api_docs/python/tf/function for  more details.\n",
      "\u001b[1m8/8\u001b[0m \u001b[32m━━━━━━━━━━━━━━━━━━━━\u001b[0m\u001b[37m\u001b[0m \u001b[1m2s\u001b[0m 205ms/step\n",
      "\n",
      "Reporte de Clasificación (LSTM):\n",
      "               precision    recall  f1-score   support\n",
      "\n",
      "     cultura       0.00      0.00      0.00        62\n",
      "    deportes       0.25      1.00      0.40        60\n",
      "    economia       0.00      0.00      0.00        60\n",
      "    justicia       0.00      0.00      0.00        58\n",
      "\n",
      "    accuracy                           0.25       240\n",
      "   macro avg       0.06      0.25      0.10       240\n",
      "weighted avg       0.06      0.25      0.10       240\n",
      "\n",
      "\n",
      "Métricas Adicionales (LSTM):\n",
      "Accuracy: 0.2500\n",
      "Precision: 0.0625\n",
      "Recall: 0.2500\n",
      "F1 Score: 0.1000\n"
     ]
    },
    {
     "name": "stderr",
     "output_type": "stream",
     "text": [
      "c:\\Users\\USER\\miniconda3\\envs\\entorno_npl_ean_py3.10\\lib\\site-packages\\sklearn\\metrics\\_classification.py:1531: UndefinedMetricWarning: Precision is ill-defined and being set to 0.0 in labels with no predicted samples. Use `zero_division` parameter to control this behavior.\n",
      "  _warn_prf(average, modifier, f\"{metric.capitalize()} is\", len(result))\n",
      "c:\\Users\\USER\\miniconda3\\envs\\entorno_npl_ean_py3.10\\lib\\site-packages\\sklearn\\metrics\\_classification.py:1531: UndefinedMetricWarning: Precision is ill-defined and being set to 0.0 in labels with no predicted samples. Use `zero_division` parameter to control this behavior.\n",
      "  _warn_prf(average, modifier, f\"{metric.capitalize()} is\", len(result))\n",
      "c:\\Users\\USER\\miniconda3\\envs\\entorno_npl_ean_py3.10\\lib\\site-packages\\sklearn\\metrics\\_classification.py:1531: UndefinedMetricWarning: Precision is ill-defined and being set to 0.0 in labels with no predicted samples. Use `zero_division` parameter to control this behavior.\n",
      "  _warn_prf(average, modifier, f\"{metric.capitalize()} is\", len(result))\n",
      "c:\\Users\\USER\\miniconda3\\envs\\entorno_npl_ean_py3.10\\lib\\site-packages\\sklearn\\metrics\\_classification.py:1531: UndefinedMetricWarning: Precision is ill-defined and being set to 0.0 in labels with no predicted samples. Use `zero_division` parameter to control this behavior.\n",
      "  _warn_prf(average, modifier, f\"{metric.capitalize()} is\", len(result))\n"
     ]
    },
    {
     "data": {
      "image/png": "[encoded data removed]",
      "text/plain": [
       "<Figure size 500x400 with 2 Axes>"
      ]
     },
     "metadata": {},
     "output_type": "display_data"
    }
   ],
   "source": [
    "# 5. Predecir en el conjunto de prueba con LSTM\n",
    "y_pred_prob_lstm = model_lstm.predict(X_test)\n",
    "y_pred_lstm = np.argmax(y_pred_prob_lstm, axis=1)\n",
    "\n",
    "# 6. Obtener el reporte de clasificación para LSTM\n",
    "report_lstm = classification_report(y_true, y_pred_lstm, target_names=y_encoder.label_encoder.classes_)\n",
    "print(\"\\nReporte de Clasificación (LSTM):\\n\", report_lstm)\n",
    "\n",
    "# 7. Calcular y mostrar las métricas adicionales para LSTM\n",
    "accuracy_lstm = accuracy_score(y_true, y_pred_lstm)\n",
    "precision_lstm = precision_score(y_true, y_pred_lstm, average='weighted')\n",
    "recall_lstm = recall_score(y_true, y_pred_lstm, average='weighted')\n",
    "f1_lstm = f1_score(y_true, y_pred_lstm, average='weighted')\n",
    "\n",
    "print(\"\\nMétricas Adicionales (LSTM):\")\n",
    "print(f\"Accuracy: {accuracy_lstm:.4f}\")\n",
    "print(f\"Precision: {precision_lstm:.4f}\")\n",
    "print(f\"Recall: {recall_lstm:.4f}\")\n",
    "print(f\"F1 Score: {f1_lstm:.4f}\")\n",
    "\n",
    "# 8. Matriz de confusión para LSTM\n",
    "conf_matrix_lstm = confusion_matrix(y_true, y_pred_lstm)\n",
    "plt.figure(figsize=(5, 4))\n",
    "sns.heatmap(conf_matrix_lstm, annot=True, cmap='Greens', fmt='g', xticklabels=y_encoder.label_encoder.classes_, yticklabels=y_encoder.label_encoder.classes_)\n",
    "plt.xlabel('Predicted Label (LSTM)')\n",
    "plt.ylabel('True Label (LSTM)')\n",
    "plt.title('Confusion Matrix (LSTM)')\n",
    "plt.show()\n",
    "\n"
   ]
  },
  {
   "cell_type": "code",
   "execution_count": 26,
   "metadata": {},
   "outputs": [
    {
     "name": "stdout",
     "output_type": "stream",
     "text": [
      "Forma de y_train: (960, 4)\n",
      "Forma de y_test: (240, 4)\n"
     ]
    }
   ],
   "source": [
    "print(\"Forma de y_train:\", y_train.shape)\n",
    "print(\"Forma de y_test:\", y_test.shape)\n"
   ]
  },
  {
   "cell_type": "code",
   "execution_count": 27,
   "metadata": {},
   "outputs": [
    {
     "name": "stdout",
     "output_type": "stream",
     "text": [
      "Distribución de etiquetas en el conjunto de entrenamiento:\n",
      "Etiqueta\n",
      "cultura     300\n",
      "deportes    300\n",
      "economia    300\n",
      "justicia    300\n",
      "Name: count, dtype: int64\n"
     ]
    }
   ],
   "source": [
    "print(\"Distribución de etiquetas en el conjunto de entrenamiento:\")\n",
    "print(pd.Series(Df_pre['Etiqueta']).value_counts())\n"
   ]
  },
  {
   "cell_type": "code",
   "execution_count": 25,
   "metadata": {},
   "outputs": [
    {
     "name": "stdout",
     "output_type": "stream",
     "text": [
      "Tamaño del vocabulario (LSTM): 28572\n",
      "Longitud máxima de secuencia (LSTM): 2768\n"
     ]
    }
   ],
   "source": [
    "print(\"Tamaño del vocabulario (LSTM):\", len(text_pipeline.named_steps['tokenizer'].get_word_index()) + 1)\n",
    "print(\"Longitud máxima de secuencia (LSTM):\", text_pipeline.named_steps['tokenizer'].max_sequence_len)\n"
   ]
  },
  {
   "cell_type": "markdown",
   "metadata": {},
   "source": [
    "#### Preguntas\n",
    "- Es necesario balancear los datos por cada categoría no estaria generando perdida de información\n",
    "- Porque no me toma los 1200 comentarios\n",
    "- Como lograr aumentar el accuracy del modelo"
   ]
  }
 ],
 "metadata": {
  "kernelspec": {
   "display_name": "entorno_npl_ean_py3.10",
   "language": "python",
   "name": "python3"
  },
  "language_info": {
   "codemirror_mode": {
    "name": "ipython",
    "version": 3
   },
   "file_extension": ".py",
   "mimetype": "text/x-python",
   "name": "python",
   "nbconvert_exporter": "python",
   "pygments_lexer": "ipython3",
   "version": "3.10.15"
  }
 },
 "nbformat": 4,
 "nbformat_minor": 2
}
