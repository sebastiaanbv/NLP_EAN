{
 "cells": [
  {
   "cell_type": "markdown",
   "metadata": {},
   "source": [
    "### Clasificación de Noticias Usando RNNs y LSTMs "
   ]
  },
  {
   "cell_type": "markdown",
   "metadata": {},
   "source": [
    "#### Librerías"
   ]
  },
  {
   "cell_type": "code",
   "execution_count": 25,
   "metadata": {},
   "outputs": [],
   "source": [
    "import pandas as pd\n",
    "import openpyxl\n",
    "import matplotlib.pyplot as plt\n",
    "import re\n",
    "import spacy\n",
    "from nltk.corpus import stopwords\n",
    "from nltk.tokenize import word_tokenize, RegexpTokenizer\n",
    "from sklearn.base import BaseEstimator, TransformerMixin\n",
    "from sklearn.metrics import accuracy_score, classification_report, confusion_matrix\n",
    "from sklearn.model_selection import train_test_split"
   ]
  },
  {
   "cell_type": "markdown",
   "metadata": {},
   "source": [
    "#### 1. Carga y Exploración de Datos"
   ]
  },
  {
   "cell_type": "code",
   "execution_count": 26,
   "metadata": {},
   "outputs": [
    {
     "data": {
      "text/html": [
       "<div>\n",
       "<style scoped>\n",
       "    .dataframe tbody tr th:only-of-type {\n",
       "        vertical-align: middle;\n",
       "    }\n",
       "\n",
       "    .dataframe tbody tr th {\n",
       "        vertical-align: top;\n",
       "    }\n",
       "\n",
       "    .dataframe thead th {\n",
       "        text-align: right;\n",
       "    }\n",
       "</style>\n",
       "<table border=\"1\" class=\"dataframe\">\n",
       "  <thead>\n",
       "    <tr style=\"text-align: right;\">\n",
       "      <th></th>\n",
       "      <th>Enlaces</th>\n",
       "      <th>Título</th>\n",
       "      <th>info</th>\n",
       "      <th>contenido</th>\n",
       "      <th>Etiqueta</th>\n",
       "    </tr>\n",
       "  </thead>\n",
       "  <tbody>\n",
       "    <tr>\n",
       "      <th>0</th>\n",
       "      <td>https://www.eltiempo.com/agresion-contra-un-op...</td>\n",
       "      <td>Operador de grúa quedó inconsciente tras agres...</td>\n",
       "      <td>El conductor de una moto le lanzó el casco y p...</td>\n",
       "      <td>Las autoridades están buscando al conductor de...</td>\n",
       "      <td>colombia</td>\n",
       "    </tr>\n",
       "    <tr>\n",
       "      <th>1</th>\n",
       "      <td>https://www.eltiempo.com/archivo/documento/CMS...</td>\n",
       "      <td>Usaquén, primera en infracciones por mal parqueo</td>\n",
       "      <td>La localidad ocupa el primer lugar en comparen...</td>\n",
       "      <td>\"Los andenes son para los peatones\", reclama e...</td>\n",
       "      <td>archivo</td>\n",
       "    </tr>\n",
       "    <tr>\n",
       "      <th>2</th>\n",
       "      <td>https://www.eltiempo.com/archivo/documento/CMS...</td>\n",
       "      <td>'Me atracaron y vi un arma que me heló la sang...</td>\n",
       "      <td>Un ciudadano relata cómo cuatro hombres lo rob...</td>\n",
       "      <td>A las 7 de la noche me había quedado de encont...</td>\n",
       "      <td>archivo</td>\n",
       "    </tr>\n",
       "    <tr>\n",
       "      <th>3</th>\n",
       "      <td>https://www.eltiempo.com/archivo/documento/CMS...</td>\n",
       "      <td>Escoltas mal estacionados, dolor de cabeza de ...</td>\n",
       "      <td>Las zonas de restaurantes se convierten en par...</td>\n",
       "      <td>Atravesados. Eso es lo que se les pasa por la ...</td>\n",
       "      <td>archivo</td>\n",
       "    </tr>\n",
       "    <tr>\n",
       "      <th>4</th>\n",
       "      <td>https://www.eltiempo.com/archivo/documento/CMS...</td>\n",
       "      <td>Radicado primer proyecto que autorizaría union...</td>\n",
       "      <td>El representante de 'la U', Miguel Gómez, dijo...</td>\n",
       "      <td>“Estamos proponiendo la figura de un contrato ...</td>\n",
       "      <td>archivo</td>\n",
       "    </tr>\n",
       "    <tr>\n",
       "      <th>...</th>\n",
       "      <td>...</td>\n",
       "      <td>...</td>\n",
       "      <td>...</td>\n",
       "      <td>...</td>\n",
       "      <td>...</td>\n",
       "    </tr>\n",
       "    <tr>\n",
       "      <th>14391</th>\n",
       "      <td>https://www.eltiempo.com/vida/viajar/una-viaje...</td>\n",
       "      <td>Una viajera pensó que la aerolínea Viva Air le...</td>\n",
       "      <td>La mujer hizo la denuncia en redes. La aerolín...</td>\n",
       "      <td>En Twitter es tendencia 'FCAS' por una denunci...</td>\n",
       "      <td>vida</td>\n",
       "    </tr>\n",
       "    <tr>\n",
       "      <th>14392</th>\n",
       "      <td>https://www.eltiempo.com/vida/viajar/un-dia-pe...</td>\n",
       "      <td>Un día perfecto en Coco Cay, la isla privada d...</td>\n",
       "      <td>El proyecto Global Private Island Collection c...</td>\n",
       "      <td>La naviera internacional Royal Caribbean prese...</td>\n",
       "      <td>vida</td>\n",
       "    </tr>\n",
       "    <tr>\n",
       "      <th>14393</th>\n",
       "      <td>https://www.eltiempo.com/vida/viajar/visitar-b...</td>\n",
       "      <td>Barú: el paraíso colombiano abierto para todos...</td>\n",
       "      <td>Cuatro hoteles y el Aviario Nacional lanzarán ...</td>\n",
       "      <td>¿Necesita razones para ir a Barú? A menos de u...</td>\n",
       "      <td>vida</td>\n",
       "    </tr>\n",
       "    <tr>\n",
       "      <th>14394</th>\n",
       "      <td>https://www.eltiempo.com/vida/viajar/we-trade-...</td>\n",
       "      <td>Con WeTrade, llega la hora LGBT a Bogotá</td>\n",
       "      <td>El 1 y 2 de noviembre se celebrará esta Feria ...</td>\n",
       "      <td>Se estima que la población LGTBI en Colombia e...</td>\n",
       "      <td>vida</td>\n",
       "    </tr>\n",
       "    <tr>\n",
       "      <th>14395</th>\n",
       "      <td>https://www.eltiempo.com/vida/viajar/yovoy-cam...</td>\n",
       "      <td>#YoVoy, una invitación a viajar por Colombia</td>\n",
       "      <td>El presidente Duque lanzó la campaña nacional ...</td>\n",
       "      <td>Con la intención de que los colombianos conozc...</td>\n",
       "      <td>vida</td>\n",
       "    </tr>\n",
       "  </tbody>\n",
       "</table>\n",
       "<p>14396 rows × 5 columns</p>\n",
       "</div>"
      ],
      "text/plain": [
       "                                                 Enlaces  \\\n",
       "0      https://www.eltiempo.com/agresion-contra-un-op...   \n",
       "1      https://www.eltiempo.com/archivo/documento/CMS...   \n",
       "2      https://www.eltiempo.com/archivo/documento/CMS...   \n",
       "3      https://www.eltiempo.com/archivo/documento/CMS...   \n",
       "4      https://www.eltiempo.com/archivo/documento/CMS...   \n",
       "...                                                  ...   \n",
       "14391  https://www.eltiempo.com/vida/viajar/una-viaje...   \n",
       "14392  https://www.eltiempo.com/vida/viajar/un-dia-pe...   \n",
       "14393  https://www.eltiempo.com/vida/viajar/visitar-b...   \n",
       "14394  https://www.eltiempo.com/vida/viajar/we-trade-...   \n",
       "14395  https://www.eltiempo.com/vida/viajar/yovoy-cam...   \n",
       "\n",
       "                                                  Título  \\\n",
       "0      Operador de grúa quedó inconsciente tras agres...   \n",
       "1       Usaquén, primera en infracciones por mal parqueo   \n",
       "2      'Me atracaron y vi un arma que me heló la sang...   \n",
       "3      Escoltas mal estacionados, dolor de cabeza de ...   \n",
       "4      Radicado primer proyecto que autorizaría union...   \n",
       "...                                                  ...   \n",
       "14391  Una viajera pensó que la aerolínea Viva Air le...   \n",
       "14392  Un día perfecto en Coco Cay, la isla privada d...   \n",
       "14393  Barú: el paraíso colombiano abierto para todos...   \n",
       "14394           Con WeTrade, llega la hora LGBT a Bogotá   \n",
       "14395       #YoVoy, una invitación a viajar por Colombia   \n",
       "\n",
       "                                                    info  \\\n",
       "0      El conductor de una moto le lanzó el casco y p...   \n",
       "1      La localidad ocupa el primer lugar en comparen...   \n",
       "2      Un ciudadano relata cómo cuatro hombres lo rob...   \n",
       "3      Las zonas de restaurantes se convierten en par...   \n",
       "4      El representante de 'la U', Miguel Gómez, dijo...   \n",
       "...                                                  ...   \n",
       "14391  La mujer hizo la denuncia en redes. La aerolín...   \n",
       "14392  El proyecto Global Private Island Collection c...   \n",
       "14393  Cuatro hoteles y el Aviario Nacional lanzarán ...   \n",
       "14394  El 1 y 2 de noviembre se celebrará esta Feria ...   \n",
       "14395  El presidente Duque lanzó la campaña nacional ...   \n",
       "\n",
       "                                               contenido  Etiqueta  \n",
       "0      Las autoridades están buscando al conductor de...  colombia  \n",
       "1      \"Los andenes son para los peatones\", reclama e...   archivo  \n",
       "2      A las 7 de la noche me había quedado de encont...   archivo  \n",
       "3      Atravesados. Eso es lo que se les pasa por la ...   archivo  \n",
       "4      “Estamos proponiendo la figura de un contrato ...   archivo  \n",
       "...                                                  ...       ...  \n",
       "14391  En Twitter es tendencia 'FCAS' por una denunci...      vida  \n",
       "14392  La naviera internacional Royal Caribbean prese...      vida  \n",
       "14393  ¿Necesita razones para ir a Barú? A menos de u...      vida  \n",
       "14394  Se estima que la población LGTBI en Colombia e...      vida  \n",
       "14395  Con la intención de que los colombianos conozc...      vida  \n",
       "\n",
       "[14396 rows x 5 columns]"
      ]
     },
     "execution_count": 26,
     "metadata": {},
     "output_type": "execute_result"
    }
   ],
   "source": [
    "Df = pd.read_excel(\"C:/Users/USER/OneDrive - universidadean.edu.co/5. NLP/Repositorio NLP/Actividad 2/Noticias.xlsx\", engine='openpyxl')\n",
    "Df.drop('Columna1', axis=1, inplace=True)\n",
    "Df"
   ]
  },
  {
   "cell_type": "code",
   "execution_count": 27,
   "metadata": {},
   "outputs": [
    {
     "data": {
      "image/png": "[encoded data removed]",
      "text/plain": [
       "<Figure size 1600x600 with 2 Axes>"
      ]
     },
     "metadata": {},
     "output_type": "display_data"
    }
   ],
   "source": [
    "# Calcular las frecuencias\n",
    "frecuencia_etiquetas = Df['Etiqueta'].value_counts()\n",
    "\n",
    "# Crear los subgráficos en una sola fila\n",
    "fig, axes = plt.subplots(1, 2, figsize=(16, 6))  # 1 fila, 2 columnas\n",
    "\n",
    "# Graficar las frecuencias generales\n",
    "frecuencia_etiquetas.plot(kind='barh', ax=axes[0], color='steelblue')\n",
    "axes[0].set_title('Frecuencia de cada Etiqueta')\n",
    "axes[0].set_xlabel('Frecuencia')\n",
    "axes[0].set_ylabel('Etiqueta')\n",
    "axes[0].invert_yaxis()  # Invertir el eje Y\n",
    "\n",
    "# Filtrar etiquetas\n",
    "Df_filter = Df[Df['Etiqueta'].isin([\"deportes\", \"cultura\", \"economia\", \"justicia\"])]\n",
    "frecuencia_etiquetas_filter = Df_filter['Etiqueta'].value_counts()\n",
    "\n",
    "# Graficar las frecuencias filtradas\n",
    "frecuencia_etiquetas_filter.plot(kind='barh', ax=axes[1], color='orange')\n",
    "axes[1].set_title('Frecuencia de Etiquetas Filtradas')\n",
    "axes[1].set_xlabel('Frecuencia')\n",
    "axes[1].set_ylabel('Etiqueta')\n",
    "axes[1].invert_yaxis()  # Invertir el eje Y\n",
    "\n",
    "# Ajustar diseño para evitar solapamientos\n",
    "plt.tight_layout()\n",
    "plt.show()\n",
    "\n"
   ]
  },
  {
   "cell_type": "markdown",
   "metadata": {},
   "source": [
    "#### 2. Filtrado de Datos"
   ]
  },
  {
   "cell_type": "code",
   "execution_count": 28,
   "metadata": {},
   "outputs": [
    {
     "data": {
      "text/html": [
       "<div>\n",
       "<style scoped>\n",
       "    .dataframe tbody tr th:only-of-type {\n",
       "        vertical-align: middle;\n",
       "    }\n",
       "\n",
       "    .dataframe tbody tr th {\n",
       "        vertical-align: top;\n",
       "    }\n",
       "\n",
       "    .dataframe thead th {\n",
       "        text-align: right;\n",
       "    }\n",
       "</style>\n",
       "<table border=\"1\" class=\"dataframe\">\n",
       "  <thead>\n",
       "    <tr style=\"text-align: right;\">\n",
       "      <th></th>\n",
       "      <th>Enlaces</th>\n",
       "      <th>Título</th>\n",
       "      <th>info</th>\n",
       "      <th>contenido</th>\n",
       "      <th>Etiqueta</th>\n",
       "    </tr>\n",
       "  </thead>\n",
       "  <tbody>\n",
       "    <tr>\n",
       "      <th>10487</th>\n",
       "      <td>https://www.eltiempo.com/cultura/al-interior-d...</td>\n",
       "      <td>Al interior de, aparte, roquero, rock / El len...</td>\n",
       "      <td>'Al interior de' es el reemplazo sofisticado e...</td>\n",
       "      <td>Citas: “Los crímenes de violencia sexual comet...</td>\n",
       "      <td>cultura</td>\n",
       "    </tr>\n",
       "    <tr>\n",
       "      <th>10488</th>\n",
       "      <td>https://www.eltiempo.com/cultura/arte-y-teatro...</td>\n",
       "      <td>Antonina Canal: 20 años de danza oriental en C...</td>\n",
       "      <td>La bailarina habló con EL TIEMPO de su trayect...</td>\n",
       "      <td>Con motivo de la celebración de los 20 años de...</td>\n",
       "      <td>cultura</td>\n",
       "    </tr>\n",
       "    <tr>\n",
       "      <th>10489</th>\n",
       "      <td>https://www.eltiempo.com/cultura/arte-y-teatro...</td>\n",
       "      <td>Aparece en Holanda cuadro de Picasso, robado h...</td>\n",
       "      <td>La pintura era propiedad de un jeque saudí, Ab...</td>\n",
       "      <td>El cuadro Busto de mujer, del artista español ...</td>\n",
       "      <td>cultura</td>\n",
       "    </tr>\n",
       "    <tr>\n",
       "      <th>10490</th>\n",
       "      <td>https://www.eltiempo.com/cultura/arte-y-teatro...</td>\n",
       "      <td>Así será la programación del Carnaval de las A...</td>\n",
       "      <td>El evento con algunos de los artistas más repr...</td>\n",
       "      <td>El Carnaval de las Artes, organizado en Barran...</td>\n",
       "      <td>cultura</td>\n",
       "    </tr>\n",
       "    <tr>\n",
       "      <th>10491</th>\n",
       "      <td>https://www.eltiempo.com/cultura/arte-y-teatro...</td>\n",
       "      <td>‘Fragmentos’ se viste de charlas y música</td>\n",
       "      <td>El lugar donde está el monumento de la artista...</td>\n",
       "      <td>Louise du Toit, filósofa; el doctor Denis Mukw...</td>\n",
       "      <td>cultura</td>\n",
       "    </tr>\n",
       "    <tr>\n",
       "      <th>...</th>\n",
       "      <td>...</td>\n",
       "      <td>...</td>\n",
       "      <td>...</td>\n",
       "      <td>...</td>\n",
       "      <td>...</td>\n",
       "    </tr>\n",
       "    <tr>\n",
       "      <th>12467</th>\n",
       "      <td>https://www.eltiempo.com/justicia/servicios/po...</td>\n",
       "      <td>Más de 70 mil policías apoyan jornada de aisla...</td>\n",
       "      <td>Miisterio de Defensa activó dispositivo especi...</td>\n",
       "      <td>El  ministro de la Defensa, Carlos Holmes Truj...</td>\n",
       "      <td>justicia</td>\n",
       "    </tr>\n",
       "    <tr>\n",
       "      <th>12468</th>\n",
       "      <td>https://www.eltiempo.com/justicia/servicios/pr...</td>\n",
       "      <td>Habrá proyecto conjunto para superar la crisis...</td>\n",
       "      <td>Se revisarán “conductas antisociales” que se h...</td>\n",
       "      <td>Después de varios contrapunteos sobre la mejor...</td>\n",
       "      <td>justicia</td>\n",
       "    </tr>\n",
       "    <tr>\n",
       "      <th>12469</th>\n",
       "      <td>https://www.eltiempo.com/justicia/servicios/qu...</td>\n",
       "      <td>¿Qué hacer en caso de un accidente de tránsito...</td>\n",
       "      <td>EL TIEMPO y la Unilibre responden a esta y otr...</td>\n",
       "      <td>El TIempo y la Universidad Libre se aliaron pa...</td>\n",
       "      <td>justicia</td>\n",
       "    </tr>\n",
       "    <tr>\n",
       "      <th>12470</th>\n",
       "      <td>https://www.eltiempo.com/justicia/servicios/su...</td>\n",
       "      <td>Otorgan subsidios a tres obreros del edificio ...</td>\n",
       "      <td>También la esposa de una de las víctimas recib...</td>\n",
       "      <td>Tres trabajadores del edificio Portales Blas d...</td>\n",
       "      <td>justicia</td>\n",
       "    </tr>\n",
       "    <tr>\n",
       "      <th>12471</th>\n",
       "      <td>https://www.eltiempo.com/justicia/servicios/su...</td>\n",
       "      <td>En Armenia, suspendidos dos artículos del POT ...</td>\n",
       "      <td>Se estaban dando licencias para construcciones...</td>\n",
       "      <td>Frente a la alerta que había prendido la Procu...</td>\n",
       "      <td>justicia</td>\n",
       "    </tr>\n",
       "  </tbody>\n",
       "</table>\n",
       "<p>1866 rows × 5 columns</p>\n",
       "</div>"
      ],
      "text/plain": [
       "                                                 Enlaces  \\\n",
       "10487  https://www.eltiempo.com/cultura/al-interior-d...   \n",
       "10488  https://www.eltiempo.com/cultura/arte-y-teatro...   \n",
       "10489  https://www.eltiempo.com/cultura/arte-y-teatro...   \n",
       "10490  https://www.eltiempo.com/cultura/arte-y-teatro...   \n",
       "10491  https://www.eltiempo.com/cultura/arte-y-teatro...   \n",
       "...                                                  ...   \n",
       "12467  https://www.eltiempo.com/justicia/servicios/po...   \n",
       "12468  https://www.eltiempo.com/justicia/servicios/pr...   \n",
       "12469  https://www.eltiempo.com/justicia/servicios/qu...   \n",
       "12470  https://www.eltiempo.com/justicia/servicios/su...   \n",
       "12471  https://www.eltiempo.com/justicia/servicios/su...   \n",
       "\n",
       "                                                  Título  \\\n",
       "10487  Al interior de, aparte, roquero, rock / El len...   \n",
       "10488  Antonina Canal: 20 años de danza oriental en C...   \n",
       "10489  Aparece en Holanda cuadro de Picasso, robado h...   \n",
       "10490  Así será la programación del Carnaval de las A...   \n",
       "10491          ‘Fragmentos’ se viste de charlas y música   \n",
       "...                                                  ...   \n",
       "12467  Más de 70 mil policías apoyan jornada de aisla...   \n",
       "12468  Habrá proyecto conjunto para superar la crisis...   \n",
       "12469  ¿Qué hacer en caso de un accidente de tránsito...   \n",
       "12470  Otorgan subsidios a tres obreros del edificio ...   \n",
       "12471  En Armenia, suspendidos dos artículos del POT ...   \n",
       "\n",
       "                                                    info  \\\n",
       "10487  'Al interior de' es el reemplazo sofisticado e...   \n",
       "10488  La bailarina habló con EL TIEMPO de su trayect...   \n",
       "10489  La pintura era propiedad de un jeque saudí, Ab...   \n",
       "10490  El evento con algunos de los artistas más repr...   \n",
       "10491  El lugar donde está el monumento de la artista...   \n",
       "...                                                  ...   \n",
       "12467  Miisterio de Defensa activó dispositivo especi...   \n",
       "12468  Se revisarán “conductas antisociales” que se h...   \n",
       "12469  EL TIEMPO y la Unilibre responden a esta y otr...   \n",
       "12470  También la esposa de una de las víctimas recib...   \n",
       "12471  Se estaban dando licencias para construcciones...   \n",
       "\n",
       "                                               contenido  Etiqueta  \n",
       "10487  Citas: “Los crímenes de violencia sexual comet...   cultura  \n",
       "10488  Con motivo de la celebración de los 20 años de...   cultura  \n",
       "10489  El cuadro Busto de mujer, del artista español ...   cultura  \n",
       "10490  El Carnaval de las Artes, organizado en Barran...   cultura  \n",
       "10491  Louise du Toit, filósofa; el doctor Denis Mukw...   cultura  \n",
       "...                                                  ...       ...  \n",
       "12467  El  ministro de la Defensa, Carlos Holmes Truj...  justicia  \n",
       "12468  Después de varios contrapunteos sobre la mejor...  justicia  \n",
       "12469  El TIempo y la Universidad Libre se aliaron pa...  justicia  \n",
       "12470  Tres trabajadores del edificio Portales Blas d...  justicia  \n",
       "12471  Frente a la alerta que había prendido la Procu...  justicia  \n",
       "\n",
       "[1866 rows x 5 columns]"
      ]
     },
     "execution_count": 28,
     "metadata": {},
     "output_type": "execute_result"
    }
   ],
   "source": [
    "#Eliminar contenido vacio\n",
    "Df_filter = Df_filter.dropna(subset=['contenido'])\n",
    "\n",
    "# Tomar 300 comentarios de cada etiqueta\n",
    "#Df_filter = Df_filter.groupby('Etiqueta').head(300)\n",
    "Df_filter\n"
   ]
  },
  {
   "cell_type": "code",
   "execution_count": 29,
   "metadata": {},
   "outputs": [
    {
     "data": {
      "image/png": "[encoded data removed]",
      "text/plain": [
       "<Figure size 1000x400 with 1 Axes>"
      ]
     },
     "metadata": {},
     "output_type": "display_data"
    }
   ],
   "source": [
    "# Primeros 300 datos por etiqueta\n",
    "Df_filter=Df_filter.groupby('Etiqueta').head(300)\n",
    "\n",
    "#Graficar frecuencia\n",
    "frecuencia_etiquetas = Df_filter['Etiqueta'].value_counts()\n",
    "\n",
    "plt.figure(figsize=(10, 4))\n",
    "frecuencia_etiquetas.plot(kind='barh', color='purple')\n",
    "plt.title('Frecuencia de cada Etiqueta')\n",
    "plt.xlabel('Etiqueta')\n",
    "plt.ylabel('Frecuencia')\n",
    "plt.gca().invert_yaxis()\n",
    "plt.show()"
   ]
  },
  {
   "cell_type": "markdown",
   "metadata": {},
   "source": [
    "#### 3. Preprocesamiento"
   ]
  },
  {
   "cell_type": "code",
   "execution_count": 30,
   "metadata": {},
   "outputs": [
    {
     "data": {
      "text/html": [
       "<div>\n",
       "<style scoped>\n",
       "    .dataframe tbody tr th:only-of-type {\n",
       "        vertical-align: middle;\n",
       "    }\n",
       "\n",
       "    .dataframe tbody tr th {\n",
       "        vertical-align: top;\n",
       "    }\n",
       "\n",
       "    .dataframe thead th {\n",
       "        text-align: right;\n",
       "    }\n",
       "</style>\n",
       "<table border=\"1\" class=\"dataframe\">\n",
       "  <thead>\n",
       "    <tr style=\"text-align: right;\">\n",
       "      <th></th>\n",
       "      <th>Enlaces</th>\n",
       "      <th>Título</th>\n",
       "      <th>info</th>\n",
       "      <th>contenido</th>\n",
       "      <th>Etiqueta</th>\n",
       "    </tr>\n",
       "  </thead>\n",
       "  <tbody>\n",
       "    <tr>\n",
       "      <th>10487</th>\n",
       "      <td>https://www.eltiempo.com/cultura/al-interior-d...</td>\n",
       "      <td>Al interior de, aparte, roquero, rock / El len...</td>\n",
       "      <td>'Al interior de' es el reemplazo sofisticado e...</td>\n",
       "      <td>Citas: “Los crímenes de violencia sexual comet...</td>\n",
       "      <td>cultura</td>\n",
       "    </tr>\n",
       "    <tr>\n",
       "      <th>10488</th>\n",
       "      <td>https://www.eltiempo.com/cultura/arte-y-teatro...</td>\n",
       "      <td>Antonina Canal: 20 años de danza oriental en C...</td>\n",
       "      <td>La bailarina habló con EL TIEMPO de su trayect...</td>\n",
       "      <td>Con motivo de la celebración de los 20 años de...</td>\n",
       "      <td>cultura</td>\n",
       "    </tr>\n",
       "    <tr>\n",
       "      <th>10489</th>\n",
       "      <td>https://www.eltiempo.com/cultura/arte-y-teatro...</td>\n",
       "      <td>Aparece en Holanda cuadro de Picasso, robado h...</td>\n",
       "      <td>La pintura era propiedad de un jeque saudí, Ab...</td>\n",
       "      <td>El cuadro Busto de mujer, del artista español ...</td>\n",
       "      <td>cultura</td>\n",
       "    </tr>\n",
       "    <tr>\n",
       "      <th>10490</th>\n",
       "      <td>https://www.eltiempo.com/cultura/arte-y-teatro...</td>\n",
       "      <td>Así será la programación del Carnaval de las A...</td>\n",
       "      <td>El evento con algunos de los artistas más repr...</td>\n",
       "      <td>El Carnaval de las Artes, organizado en Barran...</td>\n",
       "      <td>cultura</td>\n",
       "    </tr>\n",
       "    <tr>\n",
       "      <th>10491</th>\n",
       "      <td>https://www.eltiempo.com/cultura/arte-y-teatro...</td>\n",
       "      <td>‘Fragmentos’ se viste de charlas y música</td>\n",
       "      <td>El lugar donde está el monumento de la artista...</td>\n",
       "      <td>Louise du Toit, filósofa; el doctor Denis Mukw...</td>\n",
       "      <td>cultura</td>\n",
       "    </tr>\n",
       "    <tr>\n",
       "      <th>...</th>\n",
       "      <td>...</td>\n",
       "      <td>...</td>\n",
       "      <td>...</td>\n",
       "      <td>...</td>\n",
       "      <td>...</td>\n",
       "    </tr>\n",
       "    <tr>\n",
       "      <th>12424</th>\n",
       "      <td>https://www.eltiempo.com/justicia/investigacio...</td>\n",
       "      <td>Duque promete sanciones ejemplares a quienes h...</td>\n",
       "      <td>El mandatario habló tras investigación de Sema...</td>\n",
       "      <td>“Aquí hay cero tolerancia con cualquier miembr...</td>\n",
       "      <td>justicia</td>\n",
       "    </tr>\n",
       "    <tr>\n",
       "      <th>12425</th>\n",
       "      <td>https://www.eltiempo.com/justicia/investigacio...</td>\n",
       "      <td>¿Qué hay contra los dos generales investigados...</td>\n",
       "      <td>Procuraduría busca determinar si tomaron medid...</td>\n",
       "      <td>Por los hechos relacionados con el atentado a ...</td>\n",
       "      <td>justicia</td>\n",
       "    </tr>\n",
       "    <tr>\n",
       "      <th>12426</th>\n",
       "      <td>https://www.eltiempo.com/justicia/investigacio...</td>\n",
       "      <td>Reclutador de 'falsos positivos' se retracta e...</td>\n",
       "      <td>Alexander Carretero dice que aceptó la respons...</td>\n",
       "      <td>Alexander Carretero Díaz, uno de los principal...</td>\n",
       "      <td>justicia</td>\n",
       "    </tr>\n",
       "    <tr>\n",
       "      <th>12427</th>\n",
       "      <td>https://www.eltiempo.com/justicia/investigacio...</td>\n",
       "      <td>Recuperan respirador artificial que había sido...</td>\n",
       "      <td>Se trata de un equipo biomédico para el tratam...</td>\n",
       "      <td>La Policía Nacional informó que miembros de es...</td>\n",
       "      <td>justicia</td>\n",
       "    </tr>\n",
       "    <tr>\n",
       "      <th>12428</th>\n",
       "      <td>https://www.eltiempo.com/justicia/investigacio...</td>\n",
       "      <td>Registrador cobraba por nacionalización ilegal...</td>\n",
       "      <td>Siete personas más están siendo procesadas por...</td>\n",
       "      <td>Por expedir irregularmente cerca de 700 regist...</td>\n",
       "      <td>justicia</td>\n",
       "    </tr>\n",
       "  </tbody>\n",
       "</table>\n",
       "<p>1200 rows × 5 columns</p>\n",
       "</div>"
      ],
      "text/plain": [
       "                                                 Enlaces  \\\n",
       "10487  https://www.eltiempo.com/cultura/al-interior-d...   \n",
       "10488  https://www.eltiempo.com/cultura/arte-y-teatro...   \n",
       "10489  https://www.eltiempo.com/cultura/arte-y-teatro...   \n",
       "10490  https://www.eltiempo.com/cultura/arte-y-teatro...   \n",
       "10491  https://www.eltiempo.com/cultura/arte-y-teatro...   \n",
       "...                                                  ...   \n",
       "12424  https://www.eltiempo.com/justicia/investigacio...   \n",
       "12425  https://www.eltiempo.com/justicia/investigacio...   \n",
       "12426  https://www.eltiempo.com/justicia/investigacio...   \n",
       "12427  https://www.eltiempo.com/justicia/investigacio...   \n",
       "12428  https://www.eltiempo.com/justicia/investigacio...   \n",
       "\n",
       "                                                  Título  \\\n",
       "10487  Al interior de, aparte, roquero, rock / El len...   \n",
       "10488  Antonina Canal: 20 años de danza oriental en C...   \n",
       "10489  Aparece en Holanda cuadro de Picasso, robado h...   \n",
       "10490  Así será la programación del Carnaval de las A...   \n",
       "10491          ‘Fragmentos’ se viste de charlas y música   \n",
       "...                                                  ...   \n",
       "12424  Duque promete sanciones ejemplares a quienes h...   \n",
       "12425  ¿Qué hay contra los dos generales investigados...   \n",
       "12426  Reclutador de 'falsos positivos' se retracta e...   \n",
       "12427  Recuperan respirador artificial que había sido...   \n",
       "12428  Registrador cobraba por nacionalización ilegal...   \n",
       "\n",
       "                                                    info  \\\n",
       "10487  'Al interior de' es el reemplazo sofisticado e...   \n",
       "10488  La bailarina habló con EL TIEMPO de su trayect...   \n",
       "10489  La pintura era propiedad de un jeque saudí, Ab...   \n",
       "10490  El evento con algunos de los artistas más repr...   \n",
       "10491  El lugar donde está el monumento de la artista...   \n",
       "...                                                  ...   \n",
       "12424  El mandatario habló tras investigación de Sema...   \n",
       "12425  Procuraduría busca determinar si tomaron medid...   \n",
       "12426  Alexander Carretero dice que aceptó la respons...   \n",
       "12427  Se trata de un equipo biomédico para el tratam...   \n",
       "12428  Siete personas más están siendo procesadas por...   \n",
       "\n",
       "                                               contenido  Etiqueta  \n",
       "10487  Citas: “Los crímenes de violencia sexual comet...   cultura  \n",
       "10488  Con motivo de la celebración de los 20 años de...   cultura  \n",
       "10489  El cuadro Busto de mujer, del artista español ...   cultura  \n",
       "10490  El Carnaval de las Artes, organizado en Barran...   cultura  \n",
       "10491  Louise du Toit, filósofa; el doctor Denis Mukw...   cultura  \n",
       "...                                                  ...       ...  \n",
       "12424  “Aquí hay cero tolerancia con cualquier miembr...  justicia  \n",
       "12425  Por los hechos relacionados con el atentado a ...  justicia  \n",
       "12426  Alexander Carretero Díaz, uno de los principal...  justicia  \n",
       "12427  La Policía Nacional informó que miembros de es...  justicia  \n",
       "12428  Por expedir irregularmente cerca de 700 regist...  justicia  \n",
       "\n",
       "[1200 rows x 5 columns]"
      ]
     },
     "execution_count": 30,
     "metadata": {},
     "output_type": "execute_result"
    }
   ],
   "source": [
    "\n",
    "# Crear una copia de Df_filter para Df_pre\n",
    "Df_pre = Df_filter.copy()\n",
    "\n",
    "Df_pre\n",
    "\n"
   ]
  },
  {
   "cell_type": "code",
   "execution_count": 31,
   "metadata": {},
   "outputs": [
    {
     "name": "stderr",
     "output_type": "stream",
     "text": [
      "[nltk_data] Downloading package stopwords to\n",
      "[nltk_data]     C:\\Users\\USER\\AppData\\Roaming\\nltk_data...\n",
      "[nltk_data]   Package stopwords is already up-to-date!\n"
     ]
    }
   ],
   "source": [
    "import tensorflow as tf\n",
    "from tensorflow.keras.models import Sequential\n",
    "from tensorflow.keras.layers import LSTM, Dense, Embedding\n",
    "from sklearn.pipeline import Pipeline\n",
    "from sklearn.model_selection import train_test_split\n",
    "from sklearn.preprocessing import LabelEncoder\n",
    "from sklearn.base import BaseEstimator, TransformerMixin\n",
    "from nltk.corpus import stopwords\n",
    "import spacy\n",
    "import re\n",
    "import nltk\n",
    "import pandas as pd\n",
    "import numpy as np\n",
    "import matplotlib.pyplot as plt\n",
    "import seaborn as sns\n",
    "from sklearn.metrics import classification_report, confusion_matrix, accuracy_score, precision_score, recall_score, f1_score\n",
    "\n",
    "nltk.download('stopwords')\n",
    "\n",
    "# Cargar modelo de SpaCy\n",
    "nlp = spacy.load('es_core_news_sm')\n",
    "\n",
    "# 1. Clase para Normalizar el texto\n",
    "class TextNormalizer(BaseEstimator, TransformerMixin):\n",
    "    def __init__(self):\n",
    "        self.stop_words = set(stopwords.words('spanish'))\n",
    "\n",
    "    def normalize_text(self, text):\n",
    "        text = text.lower()\n",
    "        text = re.sub(r\"[.,!?]\", r\" \\g<0> \", text)  # Espacios antes y después de puntuación\n",
    "        text = re.sub(r\"[\\W\\d_]+\", \" \", text)  # Eliminar caracteres especiales y números\n",
    "        text = \" \".join([word for word in text.split() if word not in self.stop_words])  # Remover stopwords\n",
    "        return text.strip()\n",
    "\n",
    "    def transform(self, X, **kwargs):\n",
    "        return X.apply(self.normalize_text)\n",
    "\n",
    "    def fit(self, X, y=None, **kwargs):\n",
    "        return self\n",
    "\n",
    "# 2. Clase para Lematizar el texto\n",
    "class TextLemmatizer(BaseEstimator, TransformerMixin):\n",
    "    def transform(self, X, **kwargs):\n",
    "        return X.apply(lambda x: \" \".join([token.lemma_ for token in nlp(x)]))\n",
    "\n",
    "    def fit(self, X, y=None, **kwargs):\n",
    "        return self\n",
    "\n",
    "# 4. Clase para Codificar las etiquetas\n",
    "class LabelEncoderTransformer(BaseEstimator, TransformerMixin):\n",
    "    def __init__(self):\n",
    "        self.label_encoder = LabelEncoder()\n",
    "\n",
    "    def fit(self, y):\n",
    "        self.label_encoder.fit(y)\n",
    "        return self\n",
    "\n",
    "    def transform(self, y, **kwargs):\n",
    "        labels_encoded = self.label_encoder.transform(y)\n",
    "        return tf.keras.utils.to_categorical(labels_encoded, num_classes=len(self.label_encoder.classes_))\n",
    "\n",
    "# 5. Procesar y tokenizar texto\n",
    "class TextTokenizer(BaseEstimator, TransformerMixin):\n",
    "    def __init__(self, num_words=10000, maxlen=100):\n",
    "        self.tokenizer = tf.keras.preprocessing.text.Tokenizer(num_words=num_words)\n",
    "        self.maxlen = maxlen\n",
    "\n",
    "    def fit(self, X, y=None):\n",
    "        self.tokenizer.fit_on_texts(X)\n",
    "        return self\n",
    "\n",
    "    def transform(self, X, **kwargs):\n",
    "        sequences = self.tokenizer.texts_to_sequences(X)\n",
    "        return tf.keras.preprocessing.sequence.pad_sequences(sequences, maxlen=self.maxlen, truncating='post')\n",
    "\n",
    "    def get_word_index(self):\n",
    "        return self.tokenizer.word_index\n",
    "\n",
    "# 6. Crear el Pipeline de procesamiento de texto\n",
    "text_pipeline = Pipeline([\n",
    "    ('normalizer', TextNormalizer()),\n",
    "    ('lemmatizer', TextLemmatizer()),\n",
    "    ('tokenizer', TextTokenizer(num_words=10000, maxlen=100))\n",
    "])\n",
    "\n",
    "# 7. Procesar los datos del DataFrame\n",
    "sentences = Df_pre['contenido']\n",
    "labels = Df_pre['Etiqueta']\n",
    "\n",
    "# Normalizar, lematizar y tokenizar las oraciones\n",
    "X_processed = text_pipeline.fit_transform(sentences)\n",
    "\n",
    "# Codificar las etiquetas\n",
    "y_encoder = LabelEncoderTransformer()\n",
    "y = y_encoder.fit_transform(labels)\n",
    "\n",
    "# Dividir los datos en conjuntos de entrenamiento y prueba\n",
    "X_train, X_test, y_train, y_test = train_test_split(X_processed, y, test_size=0.2, random_state=42)\n",
    "\n"
   ]
  },
  {
   "cell_type": "code",
   "execution_count": 32,
   "metadata": {},
   "outputs": [],
   "source": [
    "#print(\"Índice de palabras del tokenizador:\")\n",
    "#print(word_index)"
   ]
  },
  {
   "cell_type": "code",
   "execution_count": 33,
   "metadata": {},
   "outputs": [],
   "source": [
    "#sequences"
   ]
  },
  {
   "cell_type": "markdown",
   "metadata": {},
   "source": [
    "#### LSTM"
   ]
  },
  {
   "cell_type": "code",
   "execution_count": 34,
   "metadata": {},
   "outputs": [
    {
     "name": "stdout",
     "output_type": "stream",
     "text": [
      "Epoch 1/50\n"
     ]
    },
    {
     "name": "stderr",
     "output_type": "stream",
     "text": [
      "c:\\Users\\USER\\miniconda3\\envs\\entorno_npl_ean_py3.10\\lib\\site-packages\\keras\\src\\layers\\core\\embedding.py:90: UserWarning: Argument `input_length` is deprecated. Just remove it.\n",
      "  warnings.warn(\n"
     ]
    },
    {
     "name": "stdout",
     "output_type": "stream",
     "text": [
      "\u001b[1m24/24\u001b[0m \u001b[32m━━━━━━━━━━━━━━━━━━━━\u001b[0m\u001b[37m\u001b[0m \u001b[1m6s\u001b[0m 101ms/step - accuracy: 0.2221 - loss: 1.3862 - val_accuracy: 0.2865 - val_loss: 1.3764\n",
      "Epoch 2/50\n",
      "\u001b[1m24/24\u001b[0m \u001b[32m━━━━━━━━━━━━━━━━━━━━\u001b[0m\u001b[37m\u001b[0m \u001b[1m2s\u001b[0m 68ms/step - accuracy: 0.4476 - loss: 1.2967 - val_accuracy: 0.4635 - val_loss: 1.0022\n",
      "Epoch 3/50\n",
      "\u001b[1m24/24\u001b[0m \u001b[32m━━━━━━━━━━━━━━━━━━━━\u001b[0m\u001b[37m\u001b[0m \u001b[1m2s\u001b[0m 66ms/step - accuracy: 0.4548 - loss: 0.9869 - val_accuracy: 0.4427 - val_loss: 1.0583\n",
      "Epoch 4/50\n",
      "\u001b[1m24/24\u001b[0m \u001b[32m━━━━━━━━━━━━━━━━━━━━\u001b[0m\u001b[37m\u001b[0m \u001b[1m2s\u001b[0m 65ms/step - accuracy: 0.4795 - loss: 0.8689 - val_accuracy: 0.4688 - val_loss: 1.0863\n",
      "Epoch 5/50\n",
      "\u001b[1m24/24\u001b[0m \u001b[32m━━━━━━━━━━━━━━━━━━━━\u001b[0m\u001b[37m\u001b[0m \u001b[1m2s\u001b[0m 68ms/step - accuracy: 0.5791 - loss: 0.8316 - val_accuracy: 0.6875 - val_loss: 0.7720\n",
      "Epoch 6/50\n",
      "\u001b[1m24/24\u001b[0m \u001b[32m━━━━━━━━━━━━━━━━━━━━\u001b[0m\u001b[37m\u001b[0m \u001b[1m1s\u001b[0m 59ms/step - accuracy: 0.7060 - loss: 0.6178 - val_accuracy: 0.6823 - val_loss: 0.7696\n",
      "Epoch 7/50\n",
      "\u001b[1m24/24\u001b[0m \u001b[32m━━━━━━━━━━━━━━━━━━━━\u001b[0m\u001b[37m\u001b[0m \u001b[1m1s\u001b[0m 61ms/step - accuracy: 0.7382 - loss: 0.5272 - val_accuracy: 0.6146 - val_loss: 0.7720\n",
      "Epoch 8/50\n",
      "\u001b[1m24/24\u001b[0m \u001b[32m━━━━━━━━━━━━━━━━━━━━\u001b[0m\u001b[37m\u001b[0m \u001b[1m1s\u001b[0m 61ms/step - accuracy: 0.7467 - loss: 0.5158 - val_accuracy: 0.6354 - val_loss: 0.7854\n",
      "Epoch 9/50\n",
      "\u001b[1m24/24\u001b[0m \u001b[32m━━━━━━━━━━━━━━━━━━━━\u001b[0m\u001b[37m\u001b[0m \u001b[1m2s\u001b[0m 71ms/step - accuracy: 0.7564 - loss: 0.4828 - val_accuracy: 0.5885 - val_loss: 0.9628\n"
     ]
    },
    {
     "data": {
      "text/html": [
       "<pre style=\"white-space:pre;overflow-x:auto;line-height:normal;font-family:Menlo,'DejaVu Sans Mono',consolas,'Courier New',monospace\"><span style=\"font-weight: bold\">Model: \"sequential_2\"</span>\n",
       "</pre>\n"
      ],
      "text/plain": [
       "\u001b[1mModel: \"sequential_2\"\u001b[0m\n"
      ]
     },
     "metadata": {},
     "output_type": "display_data"
    },
    {
     "data": {
      "text/html": [
       "<pre style=\"white-space:pre;overflow-x:auto;line-height:normal;font-family:Menlo,'DejaVu Sans Mono',consolas,'Courier New',monospace\">┏━━━━━━━━━━━━━━━━━━━━━━━━━━━━━━━━━┳━━━━━━━━━━━━━━━━━━━━━━━━┳━━━━━━━━━━━━━━━┓\n",
       "┃<span style=\"font-weight: bold\"> Layer (type)                    </span>┃<span style=\"font-weight: bold\"> Output Shape           </span>┃<span style=\"font-weight: bold\">       Param # </span>┃\n",
       "┡━━━━━━━━━━━━━━━━━━━━━━━━━━━━━━━━━╇━━━━━━━━━━━━━━━━━━━━━━━━╇━━━━━━━━━━━━━━━┩\n",
       "│ embedding_2 (<span style=\"color: #0087ff; text-decoration-color: #0087ff\">Embedding</span>)         │ (<span style=\"color: #00af00; text-decoration-color: #00af00\">32</span>, <span style=\"color: #00af00; text-decoration-color: #00af00\">100</span>, <span style=\"color: #00af00; text-decoration-color: #00af00\">128</span>)         │     <span style=\"color: #00af00; text-decoration-color: #00af00\">1,280,128</span> │\n",
       "├─────────────────────────────────┼────────────────────────┼───────────────┤\n",
       "│ lstm_2 (<span style=\"color: #0087ff; text-decoration-color: #0087ff\">LSTM</span>)                   │ (<span style=\"color: #00af00; text-decoration-color: #00af00\">32</span>, <span style=\"color: #00af00; text-decoration-color: #00af00\">100</span>, <span style=\"color: #00af00; text-decoration-color: #00af00\">64</span>)          │        <span style=\"color: #00af00; text-decoration-color: #00af00\">49,408</span> │\n",
       "├─────────────────────────────────┼────────────────────────┼───────────────┤\n",
       "│ lstm_3 (<span style=\"color: #0087ff; text-decoration-color: #0087ff\">LSTM</span>)                   │ (<span style=\"color: #00af00; text-decoration-color: #00af00\">32</span>, <span style=\"color: #00af00; text-decoration-color: #00af00\">32</span>)               │        <span style=\"color: #00af00; text-decoration-color: #00af00\">12,416</span> │\n",
       "├─────────────────────────────────┼────────────────────────┼───────────────┤\n",
       "│ dense_2 (<span style=\"color: #0087ff; text-decoration-color: #0087ff\">Dense</span>)                 │ (<span style=\"color: #00af00; text-decoration-color: #00af00\">32</span>, <span style=\"color: #00af00; text-decoration-color: #00af00\">16</span>)               │           <span style=\"color: #00af00; text-decoration-color: #00af00\">528</span> │\n",
       "├─────────────────────────────────┼────────────────────────┼───────────────┤\n",
       "│ dense_3 (<span style=\"color: #0087ff; text-decoration-color: #0087ff\">Dense</span>)                 │ (<span style=\"color: #00af00; text-decoration-color: #00af00\">32</span>, <span style=\"color: #00af00; text-decoration-color: #00af00\">4</span>)                │            <span style=\"color: #00af00; text-decoration-color: #00af00\">68</span> │\n",
       "└─────────────────────────────────┴────────────────────────┴───────────────┘\n",
       "</pre>\n"
      ],
      "text/plain": [
       "┏━━━━━━━━━━━━━━━━━━━━━━━━━━━━━━━━━┳━━━━━━━━━━━━━━━━━━━━━━━━┳━━━━━━━━━━━━━━━┓\n",
       "┃\u001b[1m \u001b[0m\u001b[1mLayer (type)                   \u001b[0m\u001b[1m \u001b[0m┃\u001b[1m \u001b[0m\u001b[1mOutput Shape          \u001b[0m\u001b[1m \u001b[0m┃\u001b[1m \u001b[0m\u001b[1m      Param #\u001b[0m\u001b[1m \u001b[0m┃\n",
       "┡━━━━━━━━━━━━━━━━━━━━━━━━━━━━━━━━━╇━━━━━━━━━━━━━━━━━━━━━━━━╇━━━━━━━━━━━━━━━┩\n",
       "│ embedding_2 (\u001b[38;5;33mEmbedding\u001b[0m)         │ (\u001b[38;5;34m32\u001b[0m, \u001b[38;5;34m100\u001b[0m, \u001b[38;5;34m128\u001b[0m)         │     \u001b[38;5;34m1,280,128\u001b[0m │\n",
       "├─────────────────────────────────┼────────────────────────┼───────────────┤\n",
       "│ lstm_2 (\u001b[38;5;33mLSTM\u001b[0m)                   │ (\u001b[38;5;34m32\u001b[0m, \u001b[38;5;34m100\u001b[0m, \u001b[38;5;34m64\u001b[0m)          │        \u001b[38;5;34m49,408\u001b[0m │\n",
       "├─────────────────────────────────┼────────────────────────┼───────────────┤\n",
       "│ lstm_3 (\u001b[38;5;33mLSTM\u001b[0m)                   │ (\u001b[38;5;34m32\u001b[0m, \u001b[38;5;34m32\u001b[0m)               │        \u001b[38;5;34m12,416\u001b[0m │\n",
       "├─────────────────────────────────┼────────────────────────┼───────────────┤\n",
       "│ dense_2 (\u001b[38;5;33mDense\u001b[0m)                 │ (\u001b[38;5;34m32\u001b[0m, \u001b[38;5;34m16\u001b[0m)               │           \u001b[38;5;34m528\u001b[0m │\n",
       "├─────────────────────────────────┼────────────────────────┼───────────────┤\n",
       "│ dense_3 (\u001b[38;5;33mDense\u001b[0m)                 │ (\u001b[38;5;34m32\u001b[0m, \u001b[38;5;34m4\u001b[0m)                │            \u001b[38;5;34m68\u001b[0m │\n",
       "└─────────────────────────────────┴────────────────────────┴───────────────┘\n"
      ]
     },
     "metadata": {},
     "output_type": "display_data"
    },
    {
     "data": {
      "text/html": [
       "<pre style=\"white-space:pre;overflow-x:auto;line-height:normal;font-family:Menlo,'DejaVu Sans Mono',consolas,'Courier New',monospace\"><span style=\"font-weight: bold\"> Total params: </span><span style=\"color: #00af00; text-decoration-color: #00af00\">4,027,646</span> (15.36 MB)\n",
       "</pre>\n"
      ],
      "text/plain": [
       "\u001b[1m Total params: \u001b[0m\u001b[38;5;34m4,027,646\u001b[0m (15.36 MB)\n"
      ]
     },
     "metadata": {},
     "output_type": "display_data"
    },
    {
     "data": {
      "text/html": [
       "<pre style=\"white-space:pre;overflow-x:auto;line-height:normal;font-family:Menlo,'DejaVu Sans Mono',consolas,'Courier New',monospace\"><span style=\"font-weight: bold\"> Trainable params: </span><span style=\"color: #00af00; text-decoration-color: #00af00\">1,342,548</span> (5.12 MB)\n",
       "</pre>\n"
      ],
      "text/plain": [
       "\u001b[1m Trainable params: \u001b[0m\u001b[38;5;34m1,342,548\u001b[0m (5.12 MB)\n"
      ]
     },
     "metadata": {},
     "output_type": "display_data"
    },
    {
     "data": {
      "text/html": [
       "<pre style=\"white-space:pre;overflow-x:auto;line-height:normal;font-family:Menlo,'DejaVu Sans Mono',consolas,'Courier New',monospace\"><span style=\"font-weight: bold\"> Non-trainable params: </span><span style=\"color: #00af00; text-decoration-color: #00af00\">0</span> (0.00 B)\n",
       "</pre>\n"
      ],
      "text/plain": [
       "\u001b[1m Non-trainable params: \u001b[0m\u001b[38;5;34m0\u001b[0m (0.00 B)\n"
      ]
     },
     "metadata": {},
     "output_type": "display_data"
    },
    {
     "data": {
      "text/html": [
       "<pre style=\"white-space:pre;overflow-x:auto;line-height:normal;font-family:Menlo,'DejaVu Sans Mono',consolas,'Courier New',monospace\"><span style=\"font-weight: bold\"> Optimizer params: </span><span style=\"color: #00af00; text-decoration-color: #00af00\">2,685,098</span> (10.24 MB)\n",
       "</pre>\n"
      ],
      "text/plain": [
       "\u001b[1m Optimizer params: \u001b[0m\u001b[38;5;34m2,685,098\u001b[0m (10.24 MB)\n"
      ]
     },
     "metadata": {},
     "output_type": "display_data"
    }
   ],
   "source": [
    "# Modelo LSTM\n",
    "model_lstm = Sequential([\n",
    "    Embedding(input_dim=10001, output_dim=128, input_length=100),\n",
    "    LSTM(64, return_sequences=True, dropout=0.2, recurrent_dropout=0.2),\n",
    "    LSTM(32, dropout=0.2, recurrent_dropout=0.2),\n",
    "    Dense(16, activation='relu'),\n",
    "    Dense(len(y_encoder.label_encoder.classes_), activation='softmax')\n",
    "])\n",
    "\n",
    "# Compilar el modelo\n",
    "model_lstm.compile(optimizer=tf.keras.optimizers.Adam(learning_rate=0.001), loss='categorical_crossentropy', metrics=['accuracy'])\n",
    "\n",
    "# EarlyStopping para evitar sobreentrenamiento\n",
    "early_stopping = tf.keras.callbacks.EarlyStopping(monitor='val_loss', patience=3, restore_best_weights=True)\n",
    "\n",
    "# Entrenar el modelo\n",
    "model_lstm.fit(X_train, y_train, epochs=50, batch_size=32, validation_split=0.2, callbacks=[early_stopping])\n",
    "\n",
    "# 4. Mostrar resumen del modelo LSTM\n",
    "model_lstm.summary()"
   ]
  },
  {
   "cell_type": "code",
   "execution_count": 35,
   "metadata": {},
   "outputs": [
    {
     "name": "stdout",
     "output_type": "stream",
     "text": [
      "\u001b[1m8/8\u001b[0m \u001b[32m━━━━━━━━━━━━━━━━━━━━\u001b[0m\u001b[37m\u001b[0m \u001b[1m1s\u001b[0m 78ms/step\n",
      "\n",
      "Reporte de Clasificación (LSTM):\n",
      "               precision    recall  f1-score   support\n",
      "\n",
      "     cultura       0.29      0.06      0.11        62\n",
      "    deportes       0.95      0.90      0.92        60\n",
      "    economia       0.48      0.92      0.63        60\n",
      "    justicia       0.91      0.86      0.88        58\n",
      "\n",
      "    accuracy                           0.68       240\n",
      "   macro avg       0.66      0.69      0.64       240\n",
      "weighted avg       0.65      0.68      0.63       240\n",
      "\n",
      "\n",
      "Métricas Adicionales (LSTM):\n",
      "Accuracy: 0.6792\n",
      "Precision: 0.6510\n",
      "Recall: 0.6792\n",
      "F1 Score: 0.6299\n"
     ]
    },
    {
     "data": {
      "image/png": "[encoded data removed]",
      "text/plain": [
       "<Figure size 500x400 with 2 Axes>"
      ]
     },
     "metadata": {},
     "output_type": "display_data"
    }
   ],
   "source": [
    "# Evaluar el modelo\n",
    "y_pred_prob_lstm = model_lstm.predict(X_test)\n",
    "y_pred_lstm = np.argmax(y_pred_prob_lstm, axis=1)\n",
    "y_test_labels = np.argmax(y_test, axis=1)\n",
    "\n",
    "# Reporte de clasificación\n",
    "report_lstm = classification_report(y_test_labels, y_pred_lstm, target_names=y_encoder.label_encoder.classes_)\n",
    "print(\"\\nReporte de Clasificación (LSTM):\\n\", report_lstm)\n",
    "\n",
    "# Calcular métricas adicionales\n",
    "accuracy_lstm = accuracy_score(y_test_labels, y_pred_lstm)\n",
    "precision_lstm = precision_score(y_test_labels, y_pred_lstm, average='weighted')\n",
    "recall_lstm = recall_score(y_test_labels, y_pred_lstm, average='weighted')\n",
    "f1_lstm = f1_score(y_test_labels, y_pred_lstm, average='weighted')\n",
    "\n",
    "print(\"\\nMétricas Adicionales (LSTM):\")\n",
    "print(f\"Accuracy: {accuracy_lstm:.4f}\")\n",
    "print(f\"Precision: {precision_lstm:.4f}\")\n",
    "print(f\"Recall: {recall_lstm:.4f}\")\n",
    "print(f\"F1 Score: {f1_lstm:.4f}\")\n",
    "\n",
    "# Matriz de confusión\n",
    "conf_matrix_lstm = confusion_matrix(y_test_labels, y_pred_lstm)\n",
    "plt.figure(figsize=(5, 4))\n",
    "sns.heatmap(conf_matrix_lstm, annot=True, cmap='Greens', fmt='g', xticklabels=y_encoder.label_encoder.classes_, yticklabels=y_encoder.label_encoder.classes_)\n",
    "plt.xlabel('Predicted Label (LSTM)')\n",
    "plt.ylabel('True Label (LSTM)')\n",
    "plt.title('Confusion Matrix (LSTM)')\n",
    "plt.show()\n",
    "\n"
   ]
  },
  {
   "cell_type": "code",
   "execution_count": 36,
   "metadata": {},
   "outputs": [
    {
     "name": "stdout",
     "output_type": "stream",
     "text": [
      "Forma de y_train: (960, 4)\n",
      "Forma de y_test: (240, 4)\n"
     ]
    }
   ],
   "source": [
    "print(\"Forma de y_train:\", y_train.shape)\n",
    "print(\"Forma de y_test:\", y_test.shape)"
   ]
  },
  {
   "cell_type": "code",
   "execution_count": 37,
   "metadata": {},
   "outputs": [
    {
     "name": "stdout",
     "output_type": "stream",
     "text": [
      "Distribución de etiquetas en el conjunto de entrenamiento:\n",
      "Etiqueta\n",
      "cultura     300\n",
      "deportes    300\n",
      "economia    300\n",
      "justicia    300\n",
      "Name: count, dtype: int64\n"
     ]
    }
   ],
   "source": [
    "print(\"Distribución de etiquetas en el conjunto de entrenamiento:\")\n",
    "print(pd.Series(Df_pre['Etiqueta']).value_counts())"
   ]
  },
  {
   "cell_type": "code",
   "execution_count": 38,
   "metadata": {},
   "outputs": [
    {
     "name": "stdout",
     "output_type": "stream",
     "text": [
      "Tamaño del vocabulario (LSTM): 28572\n"
     ]
    },
    {
     "ename": "AttributeError",
     "evalue": "'TextTokenizer' object has no attribute 'max_sequence_len'",
     "output_type": "error",
     "traceback": [
      "\u001b[1;31m---------------------------------------------------------------------------\u001b[0m",
      "\u001b[1;31mAttributeError\u001b[0m                            Traceback (most recent call last)",
      "Cell \u001b[1;32mIn[38], line 2\u001b[0m\n\u001b[0;32m      1\u001b[0m \u001b[38;5;28mprint\u001b[39m(\u001b[38;5;124m\"\u001b[39m\u001b[38;5;124mTamaño del vocabulario (LSTM):\u001b[39m\u001b[38;5;124m\"\u001b[39m, \u001b[38;5;28mlen\u001b[39m(text_pipeline\u001b[38;5;241m.\u001b[39mnamed_steps[\u001b[38;5;124m'\u001b[39m\u001b[38;5;124mtokenizer\u001b[39m\u001b[38;5;124m'\u001b[39m]\u001b[38;5;241m.\u001b[39mget_word_index()) \u001b[38;5;241m+\u001b[39m \u001b[38;5;241m1\u001b[39m)\n\u001b[1;32m----> 2\u001b[0m \u001b[38;5;28mprint\u001b[39m(\u001b[38;5;124m\"\u001b[39m\u001b[38;5;124mLongitud máxima de secuencia (LSTM):\u001b[39m\u001b[38;5;124m\"\u001b[39m, \u001b[43mtext_pipeline\u001b[49m\u001b[38;5;241;43m.\u001b[39;49m\u001b[43mnamed_steps\u001b[49m\u001b[43m[\u001b[49m\u001b[38;5;124;43m'\u001b[39;49m\u001b[38;5;124;43mtokenizer\u001b[39;49m\u001b[38;5;124;43m'\u001b[39;49m\u001b[43m]\u001b[49m\u001b[38;5;241;43m.\u001b[39;49m\u001b[43mmax_sequence_len\u001b[49m)\n",
      "\u001b[1;31mAttributeError\u001b[0m: 'TextTokenizer' object has no attribute 'max_sequence_len'"
     ]
    }
   ],
   "source": [
    "print(\"Tamaño del vocabulario (LSTM):\", len(text_pipeline.named_steps['tokenizer'].get_word_index()) + 1)\n",
    "print(\"Longitud máxima de secuencia (LSTM):\", text_pipeline.named_steps['tokenizer'].max_sequence_len)\n"
   ]
  },
  {
   "cell_type": "markdown",
   "metadata": {},
   "source": [
    "#### Preguntas\n",
    "- Es necesario balancear los datos por cada categoría no estaria generando perdida de información\n",
    "- Porque no me toma los 1200 comentarios\n",
    "- Como lograr aumentar el accuracy del modelo"
   ]
  }
 ],
 "metadata": {
  "kernelspec": {
   "display_name": "entorno_npl_ean_py3.10",
   "language": "python",
   "name": "python3"
  },
  "language_info": {
   "codemirror_mode": {
    "name": "ipython",
    "version": 3
   },
   "file_extension": ".py",
   "mimetype": "text/x-python",
   "name": "python",
   "nbconvert_exporter": "python",
   "pygments_lexer": "ipython3",
   "version": "3.10.15"
  }
 },
 "nbformat": 4,
 "nbformat_minor": 2
}
